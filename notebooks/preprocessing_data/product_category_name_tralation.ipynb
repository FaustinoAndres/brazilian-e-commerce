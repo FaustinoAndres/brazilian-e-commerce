{
 "cells": [
  {
   "cell_type": "markdown",
   "metadata": {
    "cell_id": "967f242dea9c4a45ab3bba0521b323ea",
    "deepnote_cell_type": "text-cell-h1",
    "is_collapsed": false,
    "tags": []
   },
   "source": [
    "# product_category_name_traslation"
   ]
  },
  {
   "cell_type": "markdown",
   "metadata": {
    "cell_id": "61d3b3fd8cd243a2a2410b87963bb836",
    "deepnote_cell_height": 52.390625,
    "deepnote_cell_type": "markdown",
    "tags": []
   },
   "source": [
    "contains the names of the categories in Portuguese and English"
   ]
  },
  {
   "cell_type": "markdown",
   "metadata": {
    "cell_id": "2c823fad22c04893895e553b13fb465f",
    "deepnote_cell_type": "text-cell-h2",
    "is_collapsed": false,
    "tags": []
   },
   "source": [
    "## Initial Column Description"
   ]
  },
  {
   "cell_type": "markdown",
   "metadata": {
    "cell_id": "7bce095e2bf0435aa322d80cf776a483",
    "deepnote_cell_type": "text-cell-p",
    "is_collapsed": false,
    "tags": []
   },
   "source": [
    "Producproduct_category_name. Name product in Portugues, this is a text.  product_category_name_english Name product in English, this is a text."
   ]
  },
  {
   "cell_type": "markdown",
   "metadata": {
    "cell_id": "c6d1c861316d448eac279118499055ff",
    "deepnote_cell_type": "text-cell-h3",
    "is_collapsed": false,
    "tags": []
   },
   "source": [
    "### Errors found"
   ]
  },
  {
   "cell_type": "markdown",
   "metadata": {
    "cell_id": "f5c0295106194d55b41f94a137d42eb1",
    "deepnote_cell_type": "text-cell-p",
    "is_collapsed": false,
    "tags": []
   },
   "source": [
    "This table contain similar categories , the differences are a name"
   ]
  },
  {
   "cell_type": "markdown",
   "metadata": {
    "cell_id": "e4121692c8724a29845f62c3c18e6dea",
    "deepnote_cell_type": "text-cell-h2",
    "is_collapsed": false,
    "tags": []
   },
   "source": [
    "## Libraries requirement"
   ]
  },
  {
   "cell_type": "markdown",
   "metadata": {
    "cell_id": "22faac8a9ce64bc892816c6ea28fcd49",
    "deepnote_cell_type": "text-cell-p",
    "is_collapsed": false,
    "tags": []
   },
   "source": [
    "I am use a integration with postgres for use sql language, I use too pandas for visualization of scv"
   ]
  },
  {
   "cell_type": "markdown",
   "metadata": {
    "cell_id": "19586375cea941f289f1cb4af81bff75",
    "deepnote_cell_type": "text-cell-h2",
    "is_collapsed": false,
    "tags": []
   },
   "source": [
    "## Data preprocessing"
   ]
  },
  {
   "cell_type": "markdown",
   "metadata": {
    "cell_id": "7f248461770d4953b2c39b25c8662ed6",
    "deepnote_cell_type": "text-cell-p",
    "is_collapsed": false,
    "tags": []
   },
   "source": [
    "Create a new column, this column will be the primary key, with which the table will be joined with olist_products_dataset"
   ]
  },
  {
   "cell_type": "markdown",
   "metadata": {
    "cell_id": "07ac685cca624220bdd0677e45cec9ff",
    "deepnote_cell_type": "text-cell-h3",
    "is_collapsed": false,
    "tags": []
   },
   "source": [
    "### Data correction"
   ]
  },
  {
   "cell_type": "markdown",
   "metadata": {
    "cell_id": "cbc5b18618f842388e33d1eae298e6f1",
    "deepnote_cell_height": 52.390625,
    "deepnote_cell_type": "markdown",
    "tags": []
   },
   "source": [
    "All the fix was done from pgadmin postgres. Create a new table with the columns to insert. then import the file, finally postgres throws me the table with the new column and its primary key"
   ]
  },
  {
   "cell_type": "code",
   "execution_count": null,
   "metadata": {
    "cell_id": "c1ebf9b9bc2a498c97e73cd4f23a2f31",
    "deepnote_cell_height": 676,
    "deepnote_cell_type": "sql",
    "deepnote_sql_source": "select *\nfrom categorys2\n",
    "deepnote_to_be_reexecuted": false,
    "deepnote_variable_name": "df_1",
    "execution_millis": 67,
    "execution_start": 1649386622060,
    "source_hash": "f8f1688f",
    "sql_integration_id": "8149e36e-fff1-4d82-afcb-aa1dddb3265d",
    "tags": []
   },
   "outputs": [
    {
     "data": {
      "application/vnd.deepnote.dataframe.v3+json": {
       "column_count": 3,
       "columns": [
        {
         "dtype": "int64",
         "name": "category_id",
         "stats": {
          "histogram": [
           {
            "bin_end": 8,
            "bin_start": 1,
            "count": 7
           },
           {
            "bin_end": 15,
            "bin_start": 8,
            "count": 7
           },
           {
            "bin_end": 22,
            "bin_start": 15,
            "count": 7
           },
           {
            "bin_end": 29,
            "bin_start": 22,
            "count": 7
           },
           {
            "bin_end": 36,
            "bin_start": 29,
            "count": 7
           },
           {
            "bin_end": 43,
            "bin_start": 36,
            "count": 7
           },
           {
            "bin_end": 50,
            "bin_start": 43,
            "count": 7
           },
           {
            "bin_end": 57,
            "bin_start": 50,
            "count": 7
           },
           {
            "bin_end": 64,
            "bin_start": 57,
            "count": 7
           },
           {
            "bin_end": 71,
            "bin_start": 64,
            "count": 8
           }
          ],
          "max": "71",
          "min": "1",
          "nan_count": 0,
          "unique_count": 71
         }
        },
        {
         "dtype": "object",
         "name": "product_category_name",
         "stats": {
          "categories": [
           {
            "count": 1,
            "name": "beleza_saude"
           },
           {
            "count": 1,
            "name": "informatica_acessorios"
           },
           {
            "count": 69,
            "name": "69 others"
           }
          ],
          "nan_count": 0,
          "unique_count": 71
         }
        },
        {
         "dtype": "object",
         "name": "product_category_name_english",
         "stats": {
          "categories": [
           {
            "count": 1,
            "name": "health_beauty"
           },
           {
            "count": 1,
            "name": "computers_accessories"
           },
           {
            "count": 69,
            "name": "69 others"
           }
          ],
          "nan_count": 0,
          "unique_count": 71
         }
        },
        {
         "dtype": "int64",
         "name": "_deepnote_index_column"
        }
       ],
       "row_count": 71,
       "rows": [
        {
         "_deepnote_index_column": 0,
         "category_id": 1,
         "product_category_name": "beleza_saude",
         "product_category_name_english": "health_beauty"
        },
        {
         "_deepnote_index_column": 1,
         "category_id": 2,
         "product_category_name": "informatica_acessorios",
         "product_category_name_english": "computers_accessories"
        },
        {
         "_deepnote_index_column": 2,
         "category_id": 3,
         "product_category_name": "automotivo",
         "product_category_name_english": "auto"
        },
        {
         "_deepnote_index_column": 3,
         "category_id": 4,
         "product_category_name": "cama_mesa_banho",
         "product_category_name_english": "bed_bath_table"
        },
        {
         "_deepnote_index_column": 4,
         "category_id": 5,
         "product_category_name": "moveis_decoracao",
         "product_category_name_english": "furniture_decor"
        },
        {
         "_deepnote_index_column": 5,
         "category_id": 6,
         "product_category_name": "esporte_lazer",
         "product_category_name_english": "sports_leisure"
        },
        {
         "_deepnote_index_column": 6,
         "category_id": 7,
         "product_category_name": "perfumaria",
         "product_category_name_english": "perfumery"
        },
        {
         "_deepnote_index_column": 7,
         "category_id": 8,
         "product_category_name": "utilidades_domesticas",
         "product_category_name_english": "housewares"
        },
        {
         "_deepnote_index_column": 8,
         "category_id": 9,
         "product_category_name": "telefonia",
         "product_category_name_english": "telephony"
        },
        {
         "_deepnote_index_column": 9,
         "category_id": 10,
         "product_category_name": "relogios_presentes",
         "product_category_name_english": "watches_gifts"
        }
       ]
      },
      "text/html": [
       "<div>\n",
       "<style scoped>\n",
       "    .dataframe tbody tr th:only-of-type {\n",
       "        vertical-align: middle;\n",
       "    }\n",
       "\n",
       "    .dataframe tbody tr th {\n",
       "        vertical-align: top;\n",
       "    }\n",
       "\n",
       "    .dataframe thead th {\n",
       "        text-align: right;\n",
       "    }\n",
       "</style>\n",
       "<table border=\"1\" class=\"dataframe\">\n",
       "  <thead>\n",
       "    <tr style=\"text-align: right;\">\n",
       "      <th></th>\n",
       "      <th>category_id</th>\n",
       "      <th>product_category_name</th>\n",
       "      <th>product_category_name_english</th>\n",
       "    </tr>\n",
       "  </thead>\n",
       "  <tbody>\n",
       "    <tr>\n",
       "      <th>0</th>\n",
       "      <td>1</td>\n",
       "      <td>beleza_saude</td>\n",
       "      <td>health_beauty</td>\n",
       "    </tr>\n",
       "    <tr>\n",
       "      <th>1</th>\n",
       "      <td>2</td>\n",
       "      <td>informatica_acessorios</td>\n",
       "      <td>computers_accessories</td>\n",
       "    </tr>\n",
       "    <tr>\n",
       "      <th>2</th>\n",
       "      <td>3</td>\n",
       "      <td>automotivo</td>\n",
       "      <td>auto</td>\n",
       "    </tr>\n",
       "    <tr>\n",
       "      <th>3</th>\n",
       "      <td>4</td>\n",
       "      <td>cama_mesa_banho</td>\n",
       "      <td>bed_bath_table</td>\n",
       "    </tr>\n",
       "    <tr>\n",
       "      <th>4</th>\n",
       "      <td>5</td>\n",
       "      <td>moveis_decoracao</td>\n",
       "      <td>furniture_decor</td>\n",
       "    </tr>\n",
       "    <tr>\n",
       "      <th>...</th>\n",
       "      <td>...</td>\n",
       "      <td>...</td>\n",
       "      <td>...</td>\n",
       "    </tr>\n",
       "    <tr>\n",
       "      <th>66</th>\n",
       "      <td>67</td>\n",
       "      <td>flores</td>\n",
       "      <td>flowers</td>\n",
       "    </tr>\n",
       "    <tr>\n",
       "      <th>67</th>\n",
       "      <td>68</td>\n",
       "      <td>artes_e_artesanato</td>\n",
       "      <td>arts_and_craftmanship</td>\n",
       "    </tr>\n",
       "    <tr>\n",
       "      <th>68</th>\n",
       "      <td>69</td>\n",
       "      <td>fraldas_higiene</td>\n",
       "      <td>diapers_and_hygiene</td>\n",
       "    </tr>\n",
       "    <tr>\n",
       "      <th>69</th>\n",
       "      <td>70</td>\n",
       "      <td>fashion_roupa_infanto_juvenil</td>\n",
       "      <td>fashion_childrens_clothes</td>\n",
       "    </tr>\n",
       "    <tr>\n",
       "      <th>70</th>\n",
       "      <td>71</td>\n",
       "      <td>seguros_e_servicos</td>\n",
       "      <td>security_and_services</td>\n",
       "    </tr>\n",
       "  </tbody>\n",
       "</table>\n",
       "<p>71 rows × 3 columns</p>\n",
       "</div>"
      ],
      "text/plain": [
       "    category_id          product_category_name product_category_name_english\n",
       "0             1                   beleza_saude                 health_beauty\n",
       "1             2         informatica_acessorios         computers_accessories\n",
       "2             3                     automotivo                          auto\n",
       "3             4                cama_mesa_banho                bed_bath_table\n",
       "4             5               moveis_decoracao               furniture_decor\n",
       "..          ...                            ...                           ...\n",
       "66           67                         flores                       flowers\n",
       "67           68             artes_e_artesanato         arts_and_craftmanship\n",
       "68           69                fraldas_higiene           diapers_and_hygiene\n",
       "69           70  fashion_roupa_infanto_juvenil     fashion_childrens_clothes\n",
       "70           71             seguros_e_servicos         security_and_services\n",
       "\n",
       "[71 rows x 3 columns]"
      ]
     },
     "execution_count": 2,
     "metadata": {},
     "output_type": "execute_result"
    }
   ],
   "source": [
    "\n",
    "\n",
    "df_1 = _deepnote_execute_sql(\"\"\"select *\n",
    "from categorys2\n",
    "\n",
    "\"\"\", 'SQL_8149E36E_FFF1_4D82_AFCB_AA1DDDB3265D')\n",
    "df_1"
   ]
  },
  {
   "cell_type": "code",
   "execution_count": null,
   "metadata": {
    "cell_id": "a6254710fa8041a88262d01125714f71",
    "deepnote_cell_height": 431,
    "deepnote_cell_type": "code",
    "deepnote_output_heights": [
     270.625
    ],
    "deepnote_to_be_reexecuted": false,
    "execution_millis": 39,
    "execution_start": 1649426993071,
    "source_hash": "97cdb6e8",
    "tags": []
   },
   "outputs": [
    {
     "data": {
      "application/vnd.deepnote.dataframe.v3+json": {
       "column_count": 2,
       "columns": [
        {
         "dtype": "object",
         "name": "product_category_name",
         "stats": {
          "categories": [
           {
            "count": 1,
            "name": "beleza_saude"
           },
           {
            "count": 1,
            "name": "informatica_acessorios"
           },
           {
            "count": 3,
            "name": "3 others"
           }
          ],
          "nan_count": 0,
          "unique_count": 5
         }
        },
        {
         "dtype": "object",
         "name": "product_category_name_english",
         "stats": {
          "categories": [
           {
            "count": 1,
            "name": "health_beauty"
           },
           {
            "count": 1,
            "name": "computers_accessories"
           },
           {
            "count": 3,
            "name": "3 others"
           }
          ],
          "nan_count": 0,
          "unique_count": 5
         }
        },
        {
         "dtype": "int64",
         "name": "_deepnote_index_column"
        }
       ],
       "row_count": 5,
       "rows": [
        {
         "_deepnote_index_column": 0,
         "product_category_name": "beleza_saude",
         "product_category_name_english": "health_beauty"
        },
        {
         "_deepnote_index_column": 1,
         "product_category_name": "informatica_acessorios",
         "product_category_name_english": "computers_accessories"
        },
        {
         "_deepnote_index_column": 2,
         "product_category_name": "automotivo",
         "product_category_name_english": "auto"
        },
        {
         "_deepnote_index_column": 3,
         "product_category_name": "cama_mesa_banho",
         "product_category_name_english": "bed_bath_table"
        },
        {
         "_deepnote_index_column": 4,
         "product_category_name": "moveis_decoracao",
         "product_category_name_english": "furniture_decor"
        }
       ]
      },
      "text/html": [
       "<div>\n",
       "<style scoped>\n",
       "    .dataframe tbody tr th:only-of-type {\n",
       "        vertical-align: middle;\n",
       "    }\n",
       "\n",
       "    .dataframe tbody tr th {\n",
       "        vertical-align: top;\n",
       "    }\n",
       "\n",
       "    .dataframe thead th {\n",
       "        text-align: right;\n",
       "    }\n",
       "</style>\n",
       "<table border=\"1\" class=\"dataframe\">\n",
       "  <thead>\n",
       "    <tr style=\"text-align: right;\">\n",
       "      <th></th>\n",
       "      <th>product_category_name</th>\n",
       "      <th>product_category_name_english</th>\n",
       "    </tr>\n",
       "  </thead>\n",
       "  <tbody>\n",
       "    <tr>\n",
       "      <th>0</th>\n",
       "      <td>beleza_saude</td>\n",
       "      <td>health_beauty</td>\n",
       "    </tr>\n",
       "    <tr>\n",
       "      <th>1</th>\n",
       "      <td>informatica_acessorios</td>\n",
       "      <td>computers_accessories</td>\n",
       "    </tr>\n",
       "    <tr>\n",
       "      <th>2</th>\n",
       "      <td>automotivo</td>\n",
       "      <td>auto</td>\n",
       "    </tr>\n",
       "    <tr>\n",
       "      <th>3</th>\n",
       "      <td>cama_mesa_banho</td>\n",
       "      <td>bed_bath_table</td>\n",
       "    </tr>\n",
       "    <tr>\n",
       "      <th>4</th>\n",
       "      <td>moveis_decoracao</td>\n",
       "      <td>furniture_decor</td>\n",
       "    </tr>\n",
       "  </tbody>\n",
       "</table>\n",
       "</div>"
      ],
      "text/plain": [
       "    product_category_name product_category_name_english\n",
       "0            beleza_saude                 health_beauty\n",
       "1  informatica_acessorios         computers_accessories\n",
       "2              automotivo                          auto\n",
       "3         cama_mesa_banho                bed_bath_table\n",
       "4        moveis_decoracao               furniture_decor"
      ]
     },
     "execution_count": 3,
     "metadata": {},
     "output_type": "execute_result"
    }
   ],
   "source": [
    "import pandas as pd\n",
    "df = pd.read_csv('/work/product_category_name_translation.csv')\n",
    "df.head()"
   ]
  },
  {
   "cell_type": "markdown",
   "metadata": {
    "created_in_deepnote_cell": true,
    "deepnote_cell_type": "markdown",
    "tags": []
   },
   "source": [
    "<a style='text-decoration:none;line-height:16px;display:flex;color:#5B5B62;padding:10px;justify-content:end;' href='https://deepnote.com?utm_source=created-in-deepnote-cell&projectId=6dab9631-d70c-4005-9902-1dd1b01450f7' target=\"_blank\">\n",
    "<img alt='Created in deepnote.com' style='display:inline;max-height:16px;margin:0px;margin-right:7.5px;' src='data:image/svg+xml;base64,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' > </img>\n",
    "Created in <span style='font-weight:600;margin-left:4px;'>Deepnote</span></a>"
   ]
  }
 ],
 "metadata": {
  "deepnote": {
   "is_reactive": false
  },
  "deepnote_execution_queue": [],
  "deepnote_notebook_id": "1638b0f5-773c-462b-ba9d-6d3c96789d73",
  "language_info": {
   "name": "python"
  },
  "orig_nbformat": 2
 },
 "nbformat": 4,
 "nbformat_minor": 2
}
