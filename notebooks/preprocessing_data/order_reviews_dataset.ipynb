{
 "cells": [
  {
   "cell_type": "markdown",
   "metadata": {},
   "source": [
    "# Reviews Dataset"
   ]
  },
  {
   "cell_type": "markdown",
   "metadata": {},
   "source": [
    "Contains the scores for orders. In some cases also a review writed for buyer."
   ]
  },
  {
   "cell_type": "markdown",
   "metadata": {},
   "source": [
    "## Initial column description"
   ]
  },
  {
   "cell_type": "markdown",
   "metadata": {},
   "source": [
    "|**Column Title**|**review_id -> str** |**order_id -> str** |**review_score -> int** |**review_comment_title -> str** |**review_comment_message -> str** |**review_creation_date -> timestamp** |**review_answer_timestamp -> timestamp** |\n",
    "|--|--|--|--|--|--|--|--|\n",
    "|Description |Primary key |Order identifier |Order Score from 1 to 5 |Review title |Review message from user |Creation review timestamp |Published review timestamp |\n",
    "|Example |8670d52e15e00043ae7de4c01cc2fe06 |b9bf720beb4ab3728760088589c62129 |4 |recomendo |aparelho eficiente no site a marca do aparelho esta impresso como tresdesinfector e ao chegar esta com outro nomeatualizar com a marca correta uma vez que e o mesmo aparelho |2018-05-22 00:00:00 |2018-05-23 16:45:47 |"
   ]
  },
  {
   "cell_type": "markdown",
   "metadata": {},
   "source": [
    "### Errors found"
   ]
  },
  {
   "cell_type": "markdown",
   "metadata": {},
   "source": [
    "+ Some empty cell in review_comment_title and review_comment_message\n",
    "+ A lot of special characters and emogis on review_comment_title and review_comment_message"
   ]
  },
  {
   "cell_type": "markdown",
   "metadata": {},
   "source": [
    "## Required libraries"
   ]
  },
  {
   "cell_type": "code",
   "execution_count": 1,
   "metadata": {},
   "outputs": [],
   "source": [
    "# Allows to work with CSV easily\n",
    "import pandas as pd\n",
    "\n",
    "# Replace special characters like ã for a or ç for c\n",
    "from unidecode import unidecode"
   ]
  },
  {
   "cell_type": "markdown",
   "metadata": {},
   "source": [
    "## Data Preprocessing"
   ]
  },
  {
   "cell_type": "markdown",
   "metadata": {
    "cell_id": "d9ec23903bcc42d1a2b3b93ddfeba8f6",
    "deepnote_cell_height": 62,
    "deepnote_cell_type": "markdown",
    "tags": []
   },
   "source": [
    "### Specific row"
   ]
  },
  {
   "cell_type": "code",
   "execution_count": null,
   "metadata": {
    "cell_id": "6a9ead8c4b344aa38860f49109230006",
    "deepnote_cell_height": 305,
    "deepnote_cell_type": "sql",
    "deepnote_sql_source": "SELECT review_comment_title\nFROM '/work/Data/NoClean/olist_order_reviews_dataset.csv'\nWHERE order_id = '2d687102eef8e4949a9d2af49e8fa946'",
    "deepnote_table_loading": false,
    "deepnote_table_state": {
     "filters": [],
     "pageIndex": 3,
     "pageSize": 10,
     "sortBy": []
    },
    "deepnote_to_be_reexecuted": false,
    "deepnote_variable_name": "df_2",
    "execution_millis": 274,
    "execution_start": 1648074368600,
    "source_hash": "77f6478a",
    "sql_integration_id": "deepnote-dataframe-sql",
    "tags": []
   },
   "outputs": [
    {
     "data": {
      "application/vnd.deepnote.dataframe.v3+json": {
       "column_count": 1,
       "columns": [
        {
         "dtype": "object",
         "name": "review_comment_title",
         "stats": {
          "categories": [
           {
            "count": 1,
            "name": "Missing"
           }
          ],
          "nan_count": 1,
          "unique_count": 0
         }
        },
        {
         "dtype": "int64",
         "name": "_deepnote_index_column"
        }
       ],
       "row_count": 1,
       "rows": [
        {
         "_deepnote_index_column": 0,
         "review_comment_title": "None"
        }
       ]
      },
      "text/html": [
       "<div>\n",
       "<style scoped>\n",
       "    .dataframe tbody tr th:only-of-type {\n",
       "        vertical-align: middle;\n",
       "    }\n",
       "\n",
       "    .dataframe tbody tr th {\n",
       "        vertical-align: top;\n",
       "    }\n",
       "\n",
       "    .dataframe thead th {\n",
       "        text-align: right;\n",
       "    }\n",
       "</style>\n",
       "<table border=\"1\" class=\"dataframe\">\n",
       "  <thead>\n",
       "    <tr style=\"text-align: right;\">\n",
       "      <th></th>\n",
       "      <th>review_comment_title</th>\n",
       "    </tr>\n",
       "  </thead>\n",
       "  <tbody>\n",
       "    <tr>\n",
       "      <th>0</th>\n",
       "      <td>None</td>\n",
       "    </tr>\n",
       "  </tbody>\n",
       "</table>\n",
       "</div>"
      ],
      "text/plain": [
       "  review_comment_title\n",
       "0                 None"
      ]
     },
     "execution_count": 14,
     "metadata": {},
     "output_type": "execute_result"
    }
   ],
   "source": [
    "\n",
    "\n",
    "df_2 = _deepnote_execute_sql(\"\"\"SELECT review_comment_title\n",
    "FROM '/work/Data/NoClean/olist_order_reviews_dataset.csv'\n",
    "WHERE order_id = '2d687102eef8e4949a9d2af49e8fa946'\n",
    "\"\"\", 'SQL_DEEPNOTE_DATAFRAME_SQL')\n",
    "df_2"
   ]
  },
  {
   "cell_type": "code",
   "execution_count": null,
   "metadata": {
    "cell_id": "959da88e222548579aafc70c4a807cbe",
    "deepnote_cell_height": 674,
    "deepnote_cell_type": "sql",
    "deepnote_sql_source": "SELECT *\nFROM '/work/Data/NoClean/olist_geolocation_dataset.csv'\nWHERE geolocation_zip_code_prefix = 64120",
    "deepnote_table_invalid": false,
    "deepnote_table_loading": false,
    "deepnote_table_state": {
     "filters": [],
     "pageIndex": 0,
     "pageSize": 10,
     "sortBy": []
    },
    "deepnote_to_be_reexecuted": false,
    "deepnote_variable_name": "df_4",
    "execution_millis": 1219,
    "execution_start": 1647968949356,
    "source_hash": "24e27664",
    "sql_integration_id": "deepnote-dataframe-sql",
    "tags": []
   },
   "outputs": [
    {
     "data": {
      "application/vnd.deepnote.dataframe.v3+json": {
       "column_count": 5,
       "columns": [
        {
         "dtype": "int64",
         "name": "geolocation_zip_code_prefix",
         "stats": {
          "histogram": [
           {
            "bin_end": 64119.6,
            "bin_start": 64119.5,
            "count": 0
           },
           {
            "bin_end": 64119.7,
            "bin_start": 64119.6,
            "count": 0
           },
           {
            "bin_end": 64119.8,
            "bin_start": 64119.7,
            "count": 0
           },
           {
            "bin_end": 64119.9,
            "bin_start": 64119.8,
            "count": 0
           },
           {
            "bin_end": 64120,
            "bin_start": 64119.9,
            "count": 0
           },
           {
            "bin_end": 64120.1,
            "bin_start": 64120,
            "count": 14
           },
           {
            "bin_end": 64120.2,
            "bin_start": 64120.1,
            "count": 0
           },
           {
            "bin_end": 64120.3,
            "bin_start": 64120.2,
            "count": 0
           },
           {
            "bin_end": 64120.4,
            "bin_start": 64120.3,
            "count": 0
           },
           {
            "bin_end": 64120.5,
            "bin_start": 64120.4,
            "count": 0
           }
          ],
          "max": "64120",
          "min": "64120",
          "nan_count": 0,
          "unique_count": 1
         }
        },
        {
         "dtype": "float64",
         "name": "geolocation_lat",
         "stats": {
          "histogram": [
           {
            "bin_end": -4.592486307190579,
            "bin_start": -4.594149289513502,
            "count": 1
           },
           {
            "bin_end": -4.590823324867655,
            "bin_start": -4.592486307190579,
            "count": 1
           },
           {
            "bin_end": -4.589160342544732,
            "bin_start": -4.590823324867655,
            "count": 1
           },
           {
            "bin_end": -4.587497360221809,
            "bin_start": -4.589160342544732,
            "count": 3
           },
           {
            "bin_end": -4.585834377898886,
            "bin_start": -4.587497360221809,
            "count": 2
           },
           {
            "bin_end": -4.584171395575962,
            "bin_start": -4.585834377898886,
            "count": 3
           },
           {
            "bin_end": -4.582508413253039,
            "bin_start": -4.584171395575962,
            "count": 0
           },
           {
            "bin_end": -4.580845430930116,
            "bin_start": -4.582508413253039,
            "count": 1
           },
           {
            "bin_end": -4.579182448607192,
            "bin_start": -4.580845430930116,
            "count": 0
           },
           {
            "bin_end": -4.577519466284269,
            "bin_start": -4.579182448607192,
            "count": 2
           }
          ],
          "max": "-4.577519466284269",
          "min": "-4.594149289513502",
          "nan_count": 0,
          "unique_count": 12
         }
        },
        {
         "dtype": "float64",
         "name": "geolocation_lng",
         "stats": {
          "histogram": [
           {
            "bin_end": -42.867654023478735,
            "bin_start": -42.868971357804845,
            "count": 1
           },
           {
            "bin_end": -42.86633668915263,
            "bin_start": -42.867654023478735,
            "count": 3
           },
           {
            "bin_end": -42.86501935482652,
            "bin_start": -42.86633668915263,
            "count": 0
           },
           {
            "bin_end": -42.86370202050042,
            "bin_start": -42.86501935482652,
            "count": 3
           },
           {
            "bin_end": -42.86238468617431,
            "bin_start": -42.86370202050042,
            "count": 1
           },
           {
            "bin_end": -42.8610673518482,
            "bin_start": -42.86238468617431,
            "count": 1
           },
           {
            "bin_end": -42.859750017522096,
            "bin_start": -42.8610673518482,
            "count": 0
           },
           {
            "bin_end": -42.858432683195986,
            "bin_start": -42.859750017522096,
            "count": 0
           },
           {
            "bin_end": -42.85711534886988,
            "bin_start": -42.858432683195986,
            "count": 1
           },
           {
            "bin_end": -42.85579801454377,
            "bin_start": -42.85711534886988,
            "count": 4
           }
          ],
          "max": "-42.85579801454377",
          "min": "-42.868971357804845",
          "nan_count": 0,
          "unique_count": 12
         }
        },
        {
         "dtype": "object",
         "name": "geolocation_city",
         "stats": {
          "categories": [
           {
            "count": 12,
            "name": "uniao"
           },
           {
            "count": 2,
            "name": "união"
           }
          ],
          "nan_count": 0,
          "unique_count": 2
         }
        },
        {
         "dtype": "object",
         "name": "geolocation_state",
         "stats": {
          "categories": [
           {
            "count": 14,
            "name": "PI"
           }
          ],
          "nan_count": 0,
          "unique_count": 1
         }
        },
        {
         "dtype": "int64",
         "name": "_deepnote_index_column"
        }
       ],
       "row_count": 14,
       "rows": [
        {
         "_deepnote_index_column": 0,
         "geolocation_city": "uniao",
         "geolocation_lat": -4.584783182160254,
         "geolocation_lng": -42.85579801454377,
         "geolocation_state": "PI",
         "geolocation_zip_code_prefix": 64120
        },
        {
         "_deepnote_index_column": 1,
         "geolocation_city": "uniao",
         "geolocation_lat": -4.584783182160254,
         "geolocation_lng": -42.85579801454377,
         "geolocation_state": "PI",
         "geolocation_zip_code_prefix": 64120
        },
        {
         "_deepnote_index_column": 2,
         "geolocation_city": "uniao",
         "geolocation_lat": -4.590553456509684,
         "geolocation_lng": -42.86352532530167,
         "geolocation_state": "PI",
         "geolocation_zip_code_prefix": 64120
        },
        {
         "_deepnote_index_column": 3,
         "geolocation_city": "união",
         "geolocation_lat": -4.587876884032012,
         "geolocation_lng": -42.8569602355826,
         "geolocation_state": "PI",
         "geolocation_zip_code_prefix": 64120
        },
        {
         "_deepnote_index_column": 4,
         "geolocation_city": "uniao",
         "geolocation_lat": -4.594149289513502,
         "geolocation_lng": -42.86691808682303,
         "geolocation_state": "PI",
         "geolocation_zip_code_prefix": 64120
        },
        {
         "_deepnote_index_column": 5,
         "geolocation_city": "uniao",
         "geolocation_lat": -4.591259391615409,
         "geolocation_lng": -42.867454301503685,
         "geolocation_state": "PI",
         "geolocation_zip_code_prefix": 64120
        },
        {
         "_deepnote_index_column": 6,
         "geolocation_city": "uniao",
         "geolocation_lat": -4.5887540237019335,
         "geolocation_lng": -42.865009264378884,
         "geolocation_state": "PI",
         "geolocation_zip_code_prefix": 64120
        },
        {
         "_deepnote_index_column": 7,
         "geolocation_city": "uniao",
         "geolocation_lat": -4.577519466284269,
         "geolocation_lng": -42.86467010659924,
         "geolocation_state": "PI",
         "geolocation_zip_code_prefix": 64120
        },
        {
         "_deepnote_index_column": 8,
         "geolocation_city": "uniao",
         "geolocation_lat": -4.5870790588419945,
         "geolocation_lng": -42.86201682508728,
         "geolocation_state": "PI",
         "geolocation_zip_code_prefix": 64120
        },
        {
         "_deepnote_index_column": 9,
         "geolocation_city": "união",
         "geolocation_lat": -4.58531180771464,
         "geolocation_lng": -42.868971357804845,
         "geolocation_state": "PI",
         "geolocation_zip_code_prefix": 64120
        }
       ]
      },
      "text/html": [
       "<div>\n",
       "<style scoped>\n",
       "    .dataframe tbody tr th:only-of-type {\n",
       "        vertical-align: middle;\n",
       "    }\n",
       "\n",
       "    .dataframe tbody tr th {\n",
       "        vertical-align: top;\n",
       "    }\n",
       "\n",
       "    .dataframe thead th {\n",
       "        text-align: right;\n",
       "    }\n",
       "</style>\n",
       "<table border=\"1\" class=\"dataframe\">\n",
       "  <thead>\n",
       "    <tr style=\"text-align: right;\">\n",
       "      <th></th>\n",
       "      <th>geolocation_zip_code_prefix</th>\n",
       "      <th>geolocation_lat</th>\n",
       "      <th>geolocation_lng</th>\n",
       "      <th>geolocation_city</th>\n",
       "      <th>geolocation_state</th>\n",
       "    </tr>\n",
       "  </thead>\n",
       "  <tbody>\n",
       "    <tr>\n",
       "      <th>0</th>\n",
       "      <td>64120</td>\n",
       "      <td>-4.584783</td>\n",
       "      <td>-42.855798</td>\n",
       "      <td>uniao</td>\n",
       "      <td>PI</td>\n",
       "    </tr>\n",
       "    <tr>\n",
       "      <th>1</th>\n",
       "      <td>64120</td>\n",
       "      <td>-4.584783</td>\n",
       "      <td>-42.855798</td>\n",
       "      <td>uniao</td>\n",
       "      <td>PI</td>\n",
       "    </tr>\n",
       "    <tr>\n",
       "      <th>2</th>\n",
       "      <td>64120</td>\n",
       "      <td>-4.590553</td>\n",
       "      <td>-42.863525</td>\n",
       "      <td>uniao</td>\n",
       "      <td>PI</td>\n",
       "    </tr>\n",
       "    <tr>\n",
       "      <th>3</th>\n",
       "      <td>64120</td>\n",
       "      <td>-4.587877</td>\n",
       "      <td>-42.856960</td>\n",
       "      <td>união</td>\n",
       "      <td>PI</td>\n",
       "    </tr>\n",
       "    <tr>\n",
       "      <th>4</th>\n",
       "      <td>64120</td>\n",
       "      <td>-4.594149</td>\n",
       "      <td>-42.866918</td>\n",
       "      <td>uniao</td>\n",
       "      <td>PI</td>\n",
       "    </tr>\n",
       "    <tr>\n",
       "      <th>5</th>\n",
       "      <td>64120</td>\n",
       "      <td>-4.591259</td>\n",
       "      <td>-42.867454</td>\n",
       "      <td>uniao</td>\n",
       "      <td>PI</td>\n",
       "    </tr>\n",
       "    <tr>\n",
       "      <th>6</th>\n",
       "      <td>64120</td>\n",
       "      <td>-4.588754</td>\n",
       "      <td>-42.865009</td>\n",
       "      <td>uniao</td>\n",
       "      <td>PI</td>\n",
       "    </tr>\n",
       "    <tr>\n",
       "      <th>7</th>\n",
       "      <td>64120</td>\n",
       "      <td>-4.577519</td>\n",
       "      <td>-42.864670</td>\n",
       "      <td>uniao</td>\n",
       "      <td>PI</td>\n",
       "    </tr>\n",
       "    <tr>\n",
       "      <th>8</th>\n",
       "      <td>64120</td>\n",
       "      <td>-4.587079</td>\n",
       "      <td>-42.862017</td>\n",
       "      <td>uniao</td>\n",
       "      <td>PI</td>\n",
       "    </tr>\n",
       "    <tr>\n",
       "      <th>9</th>\n",
       "      <td>64120</td>\n",
       "      <td>-4.585312</td>\n",
       "      <td>-42.868971</td>\n",
       "      <td>união</td>\n",
       "      <td>PI</td>\n",
       "    </tr>\n",
       "    <tr>\n",
       "      <th>10</th>\n",
       "      <td>64120</td>\n",
       "      <td>-4.587670</td>\n",
       "      <td>-42.858341</td>\n",
       "      <td>uniao</td>\n",
       "      <td>PI</td>\n",
       "    </tr>\n",
       "    <tr>\n",
       "      <th>11</th>\n",
       "      <td>64120</td>\n",
       "      <td>-4.581076</td>\n",
       "      <td>-42.855964</td>\n",
       "      <td>uniao</td>\n",
       "      <td>PI</td>\n",
       "    </tr>\n",
       "    <tr>\n",
       "      <th>12</th>\n",
       "      <td>64120</td>\n",
       "      <td>-4.587250</td>\n",
       "      <td>-42.867245</td>\n",
       "      <td>uniao</td>\n",
       "      <td>PI</td>\n",
       "    </tr>\n",
       "    <tr>\n",
       "      <th>13</th>\n",
       "      <td>64120</td>\n",
       "      <td>-4.577519</td>\n",
       "      <td>-42.864670</td>\n",
       "      <td>uniao</td>\n",
       "      <td>PI</td>\n",
       "    </tr>\n",
       "  </tbody>\n",
       "</table>\n",
       "</div>"
      ],
      "text/plain": [
       "    geolocation_zip_code_prefix  geolocation_lat  geolocation_lng  \\\n",
       "0                         64120        -4.584783       -42.855798   \n",
       "1                         64120        -4.584783       -42.855798   \n",
       "2                         64120        -4.590553       -42.863525   \n",
       "3                         64120        -4.587877       -42.856960   \n",
       "4                         64120        -4.594149       -42.866918   \n",
       "5                         64120        -4.591259       -42.867454   \n",
       "6                         64120        -4.588754       -42.865009   \n",
       "7                         64120        -4.577519       -42.864670   \n",
       "8                         64120        -4.587079       -42.862017   \n",
       "9                         64120        -4.585312       -42.868971   \n",
       "10                        64120        -4.587670       -42.858341   \n",
       "11                        64120        -4.581076       -42.855964   \n",
       "12                        64120        -4.587250       -42.867245   \n",
       "13                        64120        -4.577519       -42.864670   \n",
       "\n",
       "   geolocation_city geolocation_state  \n",
       "0             uniao                PI  \n",
       "1             uniao                PI  \n",
       "2             uniao                PI  \n",
       "3             união                PI  \n",
       "4             uniao                PI  \n",
       "5             uniao                PI  \n",
       "6             uniao                PI  \n",
       "7             uniao                PI  \n",
       "8             uniao                PI  \n",
       "9             união                PI  \n",
       "10            uniao                PI  \n",
       "11            uniao                PI  \n",
       "12            uniao                PI  \n",
       "13            uniao                PI  "
      ]
     },
     "execution_count": 39,
     "metadata": {},
     "output_type": "execute_result"
    }
   ],
   "source": [
    "\n",
    "\n",
    "df_4 = _deepnote_execute_sql(\"\"\"SELECT *\n",
    "FROM '/work/Data/NoClean/olist_geolocation_dataset.csv'\n",
    "WHERE geolocation_zip_code_prefix = 64120\n",
    "\"\"\", 'SQL_DEEPNOTE_DATAFRAME_SQL')\n",
    "df_4"
   ]
  },
  {
   "cell_type": "markdown",
   "metadata": {
    "cell_id": "1a9015dcdce843779c9ae913236ecf99",
    "deepnote_cell_height": 70,
    "deepnote_cell_type": "markdown",
    "tags": []
   },
   "source": [
    "## Column Revision"
   ]
  },
  {
   "cell_type": "code",
   "execution_count": null,
   "metadata": {
    "cell_id": "b71a7f4385de41ac927155a1b40ffc52",
    "deepnote_cell_height": 610,
    "deepnote_cell_type": "sql",
    "deepnote_sql_source": "SELECT review_answer_timestamp\nFROM '/work/Data/Clean/olist_order_reviews_dataset.csv'\nGROUP BY review_answer_timestamp\nORDER BY review_answer_timestamp",
    "deepnote_table_invalid": false,
    "deepnote_table_loading": false,
    "deepnote_table_state": {
     "filters": [],
     "pageIndex": 9824,
     "pageSize": 10,
     "sortBy": []
    },
    "deepnote_to_be_reexecuted": false,
    "deepnote_variable_name": "df_1",
    "execution_millis": 1260,
    "execution_start": 1648085687046,
    "source_hash": "5acaa34e",
    "sql_integration_id": "deepnote-dataframe-sql",
    "tags": []
   },
   "outputs": [
    {
     "data": {
      "application/vnd.deepnote.dataframe.v3+json": {
       "column_count": 1,
       "columns": [
        {
         "dtype": "datetime64[ns]",
         "name": "review_answer_timestamp",
         "stats": {
          "histogram": [
           {
            "bin_end": 1482360238700000000,
            "bin_start": 1475865148000000000,
            "count": 305
           },
           {
            "bin_end": 1488855329400000000,
            "bin_start": 1482360238700000000,
            "count": 1838
           },
           {
            "bin_end": 1495350420100000000,
            "bin_start": 1488855329400000000,
            "count": 6101
           },
           {
            "bin_end": 1501845510800000000,
            "bin_start": 1495350420100000000,
            "count": 8927
           },
           {
            "bin_end": 1508340601500000000,
            "bin_start": 1501845510800000000,
            "count": 10278
           },
           {
            "bin_end": 1514835692200000000,
            "bin_start": 1508340601500000000,
            "count": 14483
           },
           {
            "bin_end": 1521330782900000000,
            "bin_start": 1514835692200000000,
            "count": 16055
           },
           {
            "bin_end": 1527825873600000000,
            "bin_start": 1521330782900000000,
            "count": 18724
           },
           {
            "bin_end": 1534320964300000000,
            "bin_start": 1527825873600000000,
            "count": 15902
           },
           {
            "bin_end": 1540816055000000000,
            "bin_start": 1534320964300000000,
            "count": 5635
           }
          ],
          "max": "2018-10-29 12:27:35",
          "min": "2016-10-07 18:32:28",
          "nan_count": 0,
          "unique_count": 98248
         }
        },
        {
         "dtype": "int64",
         "name": "_deepnote_index_column"
        }
       ],
       "row_count": 98248,
       "rows": [
        {
         "_deepnote_index_column": 98240,
         "review_answer_timestamp": "2018-10-21T23:03:07.000000"
        },
        {
         "_deepnote_index_column": 98241,
         "review_answer_timestamp": "2018-10-22T03:33:14.000000"
        },
        {
         "_deepnote_index_column": 98242,
         "review_answer_timestamp": "2018-10-23T04:31:28.000000"
        },
        {
         "_deepnote_index_column": 98243,
         "review_answer_timestamp": "2018-10-24T16:27:36.000000"
        },
        {
         "_deepnote_index_column": 98244,
         "review_answer_timestamp": "2018-10-24T18:26:25.000000"
        },
        {
         "_deepnote_index_column": 98245,
         "review_answer_timestamp": "2018-10-24T21:34:38.000000"
        },
        {
         "_deepnote_index_column": 98246,
         "review_answer_timestamp": "2018-10-26T21:36:41.000000"
        },
        {
         "_deepnote_index_column": 98247,
         "review_answer_timestamp": "2018-10-29T12:27:35.000000"
        }
       ]
      },
      "text/html": [
       "<div>\n",
       "<style scoped>\n",
       "    .dataframe tbody tr th:only-of-type {\n",
       "        vertical-align: middle;\n",
       "    }\n",
       "\n",
       "    .dataframe tbody tr th {\n",
       "        vertical-align: top;\n",
       "    }\n",
       "\n",
       "    .dataframe thead th {\n",
       "        text-align: right;\n",
       "    }\n",
       "</style>\n",
       "<table border=\"1\" class=\"dataframe\">\n",
       "  <thead>\n",
       "    <tr style=\"text-align: right;\">\n",
       "      <th></th>\n",
       "      <th>review_answer_timestamp</th>\n",
       "    </tr>\n",
       "  </thead>\n",
       "  <tbody>\n",
       "    <tr>\n",
       "      <th>0</th>\n",
       "      <td>2016-10-07 18:32:28</td>\n",
       "    </tr>\n",
       "    <tr>\n",
       "      <th>1</th>\n",
       "      <td>2016-10-11 14:31:29</td>\n",
       "    </tr>\n",
       "    <tr>\n",
       "      <th>2</th>\n",
       "      <td>2016-10-16 03:20:17</td>\n",
       "    </tr>\n",
       "    <tr>\n",
       "      <th>3</th>\n",
       "      <td>2016-10-16 15:45:11</td>\n",
       "    </tr>\n",
       "    <tr>\n",
       "      <th>4</th>\n",
       "      <td>2016-10-17 21:02:49</td>\n",
       "    </tr>\n",
       "    <tr>\n",
       "      <th>...</th>\n",
       "      <td>...</td>\n",
       "    </tr>\n",
       "    <tr>\n",
       "      <th>98243</th>\n",
       "      <td>2018-10-24 16:27:36</td>\n",
       "    </tr>\n",
       "    <tr>\n",
       "      <th>98244</th>\n",
       "      <td>2018-10-24 18:26:25</td>\n",
       "    </tr>\n",
       "    <tr>\n",
       "      <th>98245</th>\n",
       "      <td>2018-10-24 21:34:38</td>\n",
       "    </tr>\n",
       "    <tr>\n",
       "      <th>98246</th>\n",
       "      <td>2018-10-26 21:36:41</td>\n",
       "    </tr>\n",
       "    <tr>\n",
       "      <th>98247</th>\n",
       "      <td>2018-10-29 12:27:35</td>\n",
       "    </tr>\n",
       "  </tbody>\n",
       "</table>\n",
       "<p>98248 rows × 1 columns</p>\n",
       "</div>"
      ],
      "text/plain": [
       "      review_answer_timestamp\n",
       "0         2016-10-07 18:32:28\n",
       "1         2016-10-11 14:31:29\n",
       "2         2016-10-16 03:20:17\n",
       "3         2016-10-16 15:45:11\n",
       "4         2016-10-17 21:02:49\n",
       "...                       ...\n",
       "98243     2018-10-24 16:27:36\n",
       "98244     2018-10-24 18:26:25\n",
       "98245     2018-10-24 21:34:38\n",
       "98246     2018-10-26 21:36:41\n",
       "98247     2018-10-29 12:27:35\n",
       "\n",
       "[98248 rows x 1 columns]"
      ]
     },
     "execution_count": 31,
     "metadata": {},
     "output_type": "execute_result"
    }
   ],
   "source": [
    "\n",
    "\n",
    "df_1 = _deepnote_execute_sql(\"\"\"SELECT review_answer_timestamp\n",
    "FROM '/work/Data/Clean/olist_order_reviews_dataset.csv'\n",
    "GROUP BY review_answer_timestamp\n",
    "ORDER BY review_answer_timestamp\n",
    "\"\"\", 'SQL_DEEPNOTE_DATAFRAME_SQL')\n",
    "df_1"
   ]
  },
  {
   "cell_type": "markdown",
   "metadata": {
    "cell_id": "b52734c7f1ac4f3a94b3d14a7c93200d",
    "deepnote_cell_height": 618.3125,
    "deepnote_cell_type": "markdown",
    "tags": []
   },
   "source": [
    "### Dictionaries for replacements\n",
    "\n",
    "Keys are the misspelling words searched, values are the correct words. There are two dictionaries:\n",
    "\n",
    "**characters:** contains replacements for unique characters:\n",
    "> For example:\n",
    "> ~~~\n",
    "> input: xique-xique\n",
    "> output: xique xique\n",
    "> ~~~\n",
    "> ~~~\n",
    "> input: alta floresta d'oeste\n",
    "> output: alta floresta d oeste\n",
    "> ~~~\n",
    "\n",
    "**blacklist:** contains replacements for full words\n",
    "> For example:\n",
    "> ~~~\n",
    "> input: alta floresta do oeste\n",
    "> output: alta floresta d oeste\n",
    "> ~~~\n",
    "> ~~~\n",
    "> input: 4º centenario\n",
    "> output: quarto centenario\n",
    "> ~~~\n",
    "> ~~~\n",
    "> input: xangri-lá\n",
    "> output: xangri la\n",
    "> ~~~\n",
    "\n",
    "For others special characters like \"â\" or  \"ç\" [Unidecode](https://pypi.org/project/Unidecode/) will replace for most similar ASCII characters."
   ]
  },
  {
   "cell_type": "code",
   "execution_count": 2,
   "metadata": {
    "cell_id": "43a406e53900461ab568071ca1498294",
    "deepnote_cell_height": 2529,
    "deepnote_cell_type": "code",
    "deepnote_to_be_reexecuted": false,
    "execution_millis": 52,
    "execution_start": 1648083480125,
    "source_hash": "746528ff",
    "tags": []
   },
   "outputs": [],
   "source": [
    "diccionary = {\n",
    "    \"-\": \" \",\n",
    "    \"'\": \" \",\n",
    "    \"5\": \"cinco\",\n",
    "    \"!\": \"\",\n",
    "    \".\": \"\",\n",
    "    \",\": \"\",\n",
    "    '\"': \"\",\n",
    "    \"*\": \"\",\n",
    "    \"#\": \"\",\n",
    "    \"+\": \"\",\n",
    "    \",\": \"\",\n",
    "    \"-\": \"\",\n",
    "    \".\": \"\",\n",
    "    \"0\": \"zero\",\n",
    "    \"4\": \"quatro\",\n",
    "    \"1\": \"um\",\n",
    "    \"%\": \"\",\n",
    "    \"2\": \"dois\",\n",
    "    \"ª\": \"\",\n",
    "    \"3\": \"tres\",\n",
    "    \"🌟\": \"\",\n",
    "    \"6\": \"seis\",\n",
    "    \"7\": \"sete\",\n",
    "    \"8\": \"oito\",\n",
    "    \"9\": \"nove\",\n",
    "    \":\": \"\",\n",
    "    \")\": \"\",\n",
    "    \"?\": \"\",\n",
    "    \"😍\": \"\",\n",
    "    \"_\": \" \",\n",
    "    \"🤗\": \"\",\n",
    "    \"/\": \"\",\n",
    "    \"👏\": \"\",\n",
    "    \"🚚\": \"\",\n",
    "    \"👍🏽\": \"\",\n",
    "    \"👍\": \"\",\n",
    "    \"👎\": \"\",\n",
    "    \"👏🏻\": \"\",\n",
    "    \"$\": \"\",\n",
    "    \"😀\": \"\",\n",
    "    \"👍🏼\": \"\",\n",
    "    \"👍🏽\": \"\",\n",
    "    \"💥\": \"\",\n",
    "    \"🔟\": \"dez\"\n",
    "}\n",
    "\n",
    "black_list = {\n",
    "    \"10\": \"dez\",\n",
    "    \"***** recomendo 25/07/20\": \"recomendo\",\n",
    "    \"00\": \"zero\",\n",
    "    \"01\": \"um\",\n",
    "    \"02673583082\": \"\",\n",
    "    \"05\": \"cinco\",\n",
    "    \"05/06/2018\": \"\",\n",
    "    \"10 super recomendo\": \"dez super recomendo\",\n",
    "    \"10 top\": \"1dez top\",\n",
    "    \"10! Gostei muito!\": \"dez gostei muito\",\n",
    "    \"100\": \"cem\",\n",
    "    \"100% confiável\": \"cem confiavel\",\n",
    "    \"100% original\": \"cem original\",\n",
    "    \"100% recomendado\": \"cem recomendado\",\n",
    "    \"100% satisfeito\": \"cem satisfeito\",\n",
    "    \"1000\": \"mil\",\n",
    "    \"1000000\": \"um milhao\",\n",
    "    \"100000000\": \"um milhao\",\n",
    "    \"10000000000000\": \"um milhao\",\n",
    "    \"1o\": \"um\",\n",
    "    \"353454t\": \"\",\n",
    "    \"40\": \"quatro\",\n",
    "    \"50% pessima\": \"cinquenta pessima\",\n",
    "    \"99\": \"noventa nove\",\n",
    "    \"Adaptador USB 2.0 Wireles\": \"adaptador usb wireles\",\n",
    "    \"Adaptador de 12 v p/ 110v\": \"adaptador de tensao\",\n",
    "    \"Bomba 12V\": \"bomba\",\n",
    "    \"Cartão SD 64 gb\": \"cartao sd gb\",\n",
    "    \"Comprei 02 e só recebi 01\": \"comprei dois e so recebi um\",\n",
    "    \"Comprei 02 recebi 01 lona\": \"comprei dois e so recebi um\",\n",
    "    \"Comprei 02, recebi 01\": \"comprei dois e so recebi um\",\n",
    "    \"Defeito menos de 30 Dias\": \"defeito menos de trinta dias\",\n",
    "    \"Entrega 100%\": \"entrega\",\n",
    "    \"Entrega nota 10\": \"entrega nota dez\",\n",
    "    \"Entrega nota 10.\": \"entrega nota dez\",\n",
    "    \"Fio elétrico 6mm\": \"fio eletrico\",\n",
    "    \"Kit de rodas aro 29\": \"kit de rodas aro\",\n",
    "    \"LM 327\": \"lm ci\",\n",
    "    \"Loja nota 10\": \"loja nota dez\",\n",
    "    \"Luminaria sobrepor led 18\": \"luminaria sobrepor led\",\n",
    "    \"Mesmo site com 02 FRETES!\": \"mesmo site com dois fretes\",\n",
    "    \"Mochila Denlex DL0011.\": \"mochila denlex\",\n",
    "    \"Muito bom nota 10\": \"muito bom nota dez\",\n",
    "    \"Muito bom nota 10 para am\": \"muito bom nota dez para am\",\n",
    "    \"Nita 10\": \"nota dez\",\n",
    "    \"Nota 10\": \"nota dez\",\n",
    "    \"Nota 10 \": \"nota dez\",\n",
    "    \"Nota 10 a loja\": \"nota dez a loja\",\n",
    "    \"Nota 10!!!\": \"nota dez\",\n",
    "    \"Nota 10.\": \"nota dez\",\n",
    "    \"Nota 1000\": \"nota mil\",\n",
    "    \"Nota 1000 \": \"nota mil\",\n",
    "    \"Nota10\": \"nota dez\",\n",
    "    \"Pedi de 1/2 e veio 3/4\": \"pedido errado\",\n",
    "    \"Pedido 02-671663252\": \"pedido\",\n",
    "    \"Pedido com 10 toalhas\": \"pedido com dez toalhas\",\n",
    "    \"Pedido: 01-68698482 de 21\": \"pedido\",\n",
    "    \"Produto NÃO 100% igual.\": \"produto nao igual\",\n",
    "    \"Produto levara 60 dias\": \"produto levara sessenta dias\",\n",
    "    \"Produto não veio 250 ml\": \"produto nao veio\",\n",
    "    \"Quase nota 10\": \"quase nota dez\",\n",
    "    \"Recebimento nota 10\": \"recebimento nota dez\",\n",
    "    \"Recomendo 100%\": \"recomendo\",\n",
    "    \"Recomendo 100%.\": \"recomendo\",\n",
    "    \"Recomendo mas não é 100%\": \"recomendo\",\n",
    "    \"Solicitado 30X30 recebi 4\": \"solicitado\",\n",
    "    \"Squeeze Cantil Inox 750ml\": \"squeeze cantil inox\",\n",
    "    \"Super recomendado 17/05/\": \"super recomendado\",\n",
    "    \"Super recomendo 16/07/201\": \"super recomendado\",\n",
    "    \"TUDO 100%\": \"tudo certo\",\n",
    "    \"Tesoura 5.5\": \"tesoura\",\n",
    "    \"Top 10\": \"top dez\",\n",
    "    \"Tudo perfeito nota 10.\": \"tudo perfeito nota dez\",\n",
    "    \"Vcs sao 10\": \"vcs sao dez\",\n",
    "    \"Ventilador Excelente...10\": \"ventilador excelente dez\",\n",
    "    \"nota 10\": \"nota dez\",\n",
    "    \"nota 10 bem rapido\": \"nota dez bem rapido\",\n",
    "    \"nota 10000\": \"nota mil\",\n",
    "    \"recomend 02-667550502 de \": \"recomendo\",\n",
    "    \"recomendo 100 por cento\": \"recomendo cem por cento\",\n",
    "    \"recomendo 14/7/2018\": \"recomendo\",\n",
    "    \"super recomendo 01092018\": \"super recomendo\",\n",
    "    \"super recomendo-10\": \"super recomendo\",\n",
    "    \"super recomendo15 /07/18 \": \"super recomendo\",\n",
    "    \"targaryen 10. lannister 0.\": \"targaryen dez lannister zero\",\n",
    "    \"xx\": \"\",\n",
    "    \"xxx\": \"\",\n",
    "    \"xxxxxxxxxxx\": \"\"\n",
    "}"
   ]
  },
  {
   "cell_type": "markdown",
   "metadata": {
    "cell_id": "cefad3055b364ca6943255865a8e5ee4",
    "deepnote_cell_height": 62,
    "deepnote_cell_type": "markdown",
    "tags": []
   },
   "source": [
    "### Replace Function"
   ]
  },
  {
   "cell_type": "code",
   "execution_count": 3,
   "metadata": {
    "cell_id": "b76d86987534455195c1c682dd1532ad",
    "deepnote_cell_height": 513,
    "deepnote_cell_type": "code",
    "deepnote_to_be_reexecuted": false,
    "execution_millis": 20371,
    "execution_start": 1648085417411,
    "source_hash": "e8ce75ff",
    "tags": []
   },
   "outputs": [],
   "source": [
    "def replace(word):\n",
    "    # if str(word) == \"nan\":\n",
    "    #     return \"no_aplica\"\n",
    "    word = str(word)\n",
    "    if word in black_list:\n",
    "        return black_list[word]\n",
    "    for i, j in diccionary.items():\n",
    "        word = word.replace(i, j).lower()\n",
    "    return unidecode(word)\n",
    "\n",
    "def replace_without_black_list(word):\n",
    "    # if str(word) == \"nan\":\n",
    "    #     return \"no_aplica\"\n",
    "    word = str(word)\n",
    "    for i, j in diccionary.items():\n",
    "        word = word.replace(i, j).lower()\n",
    "    return unidecode(word)\n",
    "\n",
    "customers_dataset = pd.read_csv('../../data/raw/olist_order_reviews_dataset.csv')\n",
    "customers_dataset['review_comment_title'] = customers_dataset['review_comment_title'].map(replace)\n",
    "customers_dataset['review_comment_message'] = customers_dataset['review_comment_message'].map(replace_without_black_list)\n",
    "customers_dataset.to_csv('../../data/interim/order_reviews_dataset.csv', encoding='utf-8', index=False)"
   ]
  },
  {
   "cell_type": "code",
   "execution_count": null,
   "metadata": {
    "cell_id": "9c216a6f270e402aaa8a89d3e4b07d62",
    "deepnote_cell_height": 610,
    "deepnote_cell_type": "sql",
    "deepnote_sql_source": "SELECT review_comment_title\nFROM '/work/Data/NoClean/olist_order_reviews_dataset.csv'\nGROUP BY review_comment_title\nORDER BY review_comment_title",
    "deepnote_table_invalid": false,
    "deepnote_table_loading": false,
    "deepnote_table_state": {
     "filters": [],
     "pageIndex": 452,
     "pageSize": 10,
     "sortBy": []
    },
    "deepnote_to_be_reexecuted": false,
    "deepnote_variable_name": "df_3",
    "execution_millis": 1204,
    "execution_start": 1648072125382,
    "source_hash": "b5121cc9",
    "sql_integration_id": "deepnote-dataframe-sql",
    "tags": []
   },
   "outputs": [
    {
     "data": {
      "application/vnd.deepnote.dataframe.v3+json": {
       "column_count": 1,
       "columns": [
        {
         "dtype": "object",
         "name": "review_comment_title",
         "stats": {
          "categories": [
           {
            "count": 1,
            "name": " "
           },
           {
            "count": 4526,
            "name": "4526 others"
           },
           {
            "count": 1,
            "name": "Missing"
           }
          ],
          "nan_count": 1,
          "unique_count": 4527
         }
        },
        {
         "dtype": "int64",
         "name": "_deepnote_index_column"
        }
       ],
       "row_count": 4528,
       "rows": [
        {
         "_deepnote_index_column": 4520,
         "review_comment_title": "ótimos produtos"
        },
        {
         "_deepnote_index_column": 4521,
         "review_comment_title": "🌟🌟🌟🌟🌟 super recomend"
        },
        {
         "_deepnote_index_column": 4522,
         "review_comment_title": "👍"
        },
        {
         "_deepnote_index_column": 4523,
         "review_comment_title": "👍🏼"
        },
        {
         "_deepnote_index_column": 4524,
         "review_comment_title": "👍🏽"
        },
        {
         "_deepnote_index_column": 4525,
         "review_comment_title": "👍👍👍👍👍"
        },
        {
         "_deepnote_index_column": 4526,
         "review_comment_title": "💥💥💥💥💥"
        },
        {
         "_deepnote_index_column": 4527,
         "review_comment_title": "🔟 "
        }
       ]
      },
      "text/html": [
       "<div>\n",
       "<style scoped>\n",
       "    .dataframe tbody tr th:only-of-type {\n",
       "        vertical-align: middle;\n",
       "    }\n",
       "\n",
       "    .dataframe tbody tr th {\n",
       "        vertical-align: top;\n",
       "    }\n",
       "\n",
       "    .dataframe thead th {\n",
       "        text-align: right;\n",
       "    }\n",
       "</style>\n",
       "<table border=\"1\" class=\"dataframe\">\n",
       "  <thead>\n",
       "    <tr style=\"text-align: right;\">\n",
       "      <th></th>\n",
       "      <th>review_comment_title</th>\n",
       "    </tr>\n",
       "  </thead>\n",
       "  <tbody>\n",
       "    <tr>\n",
       "      <th>0</th>\n",
       "      <td>None</td>\n",
       "    </tr>\n",
       "    <tr>\n",
       "      <th>1</th>\n",
       "      <td></td>\n",
       "    </tr>\n",
       "    <tr>\n",
       "      <th>2</th>\n",
       "      <td>10</td>\n",
       "    </tr>\n",
       "    <tr>\n",
       "      <th>3</th>\n",
       "      <td>4</td>\n",
       "    </tr>\n",
       "    <tr>\n",
       "      <th>4</th>\n",
       "      <td>5 estrelas</td>\n",
       "    </tr>\n",
       "    <tr>\n",
       "      <th>...</th>\n",
       "      <td>...</td>\n",
       "    </tr>\n",
       "    <tr>\n",
       "      <th>4523</th>\n",
       "      <td>👍🏼</td>\n",
       "    </tr>\n",
       "    <tr>\n",
       "      <th>4524</th>\n",
       "      <td>👍🏽</td>\n",
       "    </tr>\n",
       "    <tr>\n",
       "      <th>4525</th>\n",
       "      <td>👍👍👍👍👍</td>\n",
       "    </tr>\n",
       "    <tr>\n",
       "      <th>4526</th>\n",
       "      <td>💥💥💥💥💥</td>\n",
       "    </tr>\n",
       "    <tr>\n",
       "      <th>4527</th>\n",
       "      <td>🔟</td>\n",
       "    </tr>\n",
       "  </tbody>\n",
       "</table>\n",
       "<p>4528 rows × 1 columns</p>\n",
       "</div>"
      ],
      "text/plain": [
       "     review_comment_title\n",
       "0                    None\n",
       "1                        \n",
       "2                      10\n",
       "3                      4 \n",
       "4              5 estrelas\n",
       "...                   ...\n",
       "4523                   👍🏼\n",
       "4524                   👍🏽\n",
       "4525                👍👍👍👍👍\n",
       "4526                💥💥💥💥💥\n",
       "4527                   🔟 \n",
       "\n",
       "[4528 rows x 1 columns]"
      ]
     },
     "execution_count": 2,
     "metadata": {},
     "output_type": "execute_result"
    }
   ],
   "source": [
    "\n",
    "\n",
    "df_3 = _deepnote_execute_sql(\"\"\"SELECT review_comment_title\n",
    "FROM '/work/Data/NoClean/olist_order_reviews_dataset.csv'\n",
    "GROUP BY review_comment_title\n",
    "ORDER BY review_comment_title\n",
    "\"\"\", 'SQL_DEEPNOTE_DATAFRAME_SQL')\n",
    "df_3"
   ]
  },
  {
   "cell_type": "code",
   "execution_count": 4,
   "metadata": {},
   "outputs": [
    {
     "ename": "TypeError",
     "evalue": "'DataFrame' object is not callable",
     "output_type": "error",
     "traceback": [
      "\u001b[1;31m---------------------------------------------------------------------------\u001b[0m",
      "\u001b[1;31mTypeError\u001b[0m                                 Traceback (most recent call last)",
      "\u001b[1;32md:\\yufni\\platzi\\master\\Monitoring-Brazilian-e-commerce\\notebooks\\preprocessing_data\\order_reviews_dataset.ipynb Cell 20'\u001b[0m in \u001b[0;36m<cell line: 4>\u001b[1;34m()\u001b[0m\n\u001b[0;32m      <a href='vscode-notebook-cell:/d%3A/yufni/platzi/master/Monitoring-Brazilian-e-commerce/notebooks/preprocessing_data/order_reviews_dataset.ipynb#ch0000021?line=1'>2</a>\u001b[0m replace_keys \u001b[39m=\u001b[39m \u001b[39mlist\u001b[39m(dict_replace[\u001b[39m'\u001b[39m\u001b[39morder_id\u001b[39m\u001b[39m'\u001b[39m])\n\u001b[0;32m      <a href='vscode-notebook-cell:/d%3A/yufni/platzi/master/Monitoring-Brazilian-e-commerce/notebooks/preprocessing_data/order_reviews_dataset.ipynb#ch0000021?line=2'>3</a>\u001b[0m replace_values \u001b[39m=\u001b[39m \u001b[39mlist\u001b[39m(dict_replace[\u001b[39m'\u001b[39m\u001b[39munique_id\u001b[39m\u001b[39m'\u001b[39m])\n\u001b[1;32m----> <a href='vscode-notebook-cell:/d%3A/yufni/platzi/master/Monitoring-Brazilian-e-commerce/notebooks/preprocessing_data/order_reviews_dataset.ipynb#ch0000021?line=3'>4</a>\u001b[0m replace_dict \u001b[39m=\u001b[39m \u001b[39mdict\u001b[39;49m(\u001b[39mzip\u001b[39;49m(replace_keys, replace_values))\n\u001b[0;32m      <a href='vscode-notebook-cell:/d%3A/yufni/platzi/master/Monitoring-Brazilian-e-commerce/notebooks/preprocessing_data/order_reviews_dataset.ipynb#ch0000021?line=5'>6</a>\u001b[0m \u001b[39mdef\u001b[39;00m \u001b[39mchange_id\u001b[39m(\u001b[39mid\u001b[39m):\n\u001b[0;32m      <a href='vscode-notebook-cell:/d%3A/yufni/platzi/master/Monitoring-Brazilian-e-commerce/notebooks/preprocessing_data/order_reviews_dataset.ipynb#ch0000021?line=6'>7</a>\u001b[0m     \u001b[39mreturn\u001b[39;00m replace_dict[\u001b[39mid\u001b[39m]\n",
      "\u001b[1;31mTypeError\u001b[0m: 'DataFrame' object is not callable"
     ]
    }
   ],
   "source": [
    "dict_replace = pd.read_csv('../../data/interim/unique_order_id.csv')\n",
    "replace_keys = list(dict_replace['order_id'])\n",
    "replace_values = list(dict_replace['unique_id'])\n",
    "replace_dict = dict(zip(replace_keys, replace_values))\n",
    "\n",
    "def change_id(id):\n",
    "    return replace_dict[id]\n",
    "\n",
    "dataset = pd.read_csv('../../data/interim/order_reviews_dataset.csv')\n",
    "dataset['order_id'] = dataset['order_id'].map(change_id)\n",
    "print(dataset)"
   ]
  },
  {
   "cell_type": "markdown",
   "metadata": {},
   "source": [
    "## Final Column Description"
   ]
  },
  {
   "cell_type": "markdown",
   "metadata": {},
   "source": [
    "|**Column Title**|**review_id -> str** |**order_id -> str** |**review_score -> int** |**review_comment_title -> str** |**review_comment_message -> str** |**review_creation_date -> timestamp** |**review_answer_timestamp -> timestamp** |\n",
    "|--|--|--|--|--|--|--|--|\n",
    "|Description |Primary key |Order identifier |Order Score from 1 to 5 |Review title |Review message from user |Creation review timestamp |Published review timestamp |\n",
    "|Before Preprocessing |419137599a91ca81d4c24e9c6832486a |343146b92daf167255eed8e706a25d2d |5 | |Produto excelente para conservação do console, contra poeira e tempo 👍🏽 |2017-07-18 00:00:00 |2017-07-18 21:07:20 |\n",
    "|After Preprocessing |419137599a91ca81d4c24e9c6832486a |343146b92daf167255eed8e706a25d2d |5 | |produto excelente para conservacao do console contra poeira e tempo |2017-07-18 00:00:00 |2017-07-18 21:07:20 |"
   ]
  }
 ],
 "metadata": {
  "deepnote": {
   "is_reactive": false
  },
  "deepnote_execution_queue": [],
  "deepnote_notebook_id": "395c55bb-8e43-4a51-8631-1f8ca518b4d5",
  "interpreter": {
   "hash": "78311e5f998ca577987fc24a430aad8416f171045760c40b0b6c62bda4ad5cc3"
  },
  "kernelspec": {
   "display_name": "Python 3.10.4 ('venv': venv)",
   "language": "python",
   "name": "python3"
  },
  "language_info": {
   "codemirror_mode": {
    "name": "ipython",
    "version": 3
   },
   "file_extension": ".py",
   "mimetype": "text/x-python",
   "name": "python",
   "nbconvert_exporter": "python",
   "pygments_lexer": "ipython3",
   "version": "3.10.4"
  },
  "orig_nbformat": 2
 },
 "nbformat": 4,
 "nbformat_minor": 2
}
