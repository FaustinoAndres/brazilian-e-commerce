{
 "cells": [
  {
   "cell_type": "markdown",
   "metadata": {},
   "source": [
    "# Code zip prefix update \n",
    "Contains the dataset of the zip code from Brazil"
   ]
  },
  {
   "cell_type": "markdown",
   "metadata": {},
   "source": [
    "## Initial Column Description\n"
   ]
  },
  {
   "cell_type": "markdown",
   "metadata": {},
   "source": [
    "|**Column Title**|**Unnamed: 0 -> int** |**code_zip_prefix_id -> int** | **code_zip_prefix -> int**| \n",
    "|--|--|--|--|\n",
    "|Description |unnamed for this table |Code zip prefix id Identifier Number |Zip Code prefix |\n",
    "|Example |0 |1 |1037 |"
   ]
  },
  {
   "cell_type": "markdown",
   "metadata": {},
   "source": [
    "### Errors found\n",
    "+ This dataset comes from a page and has a column unnamed that has to be deleted."
   ]
  },
  {
   "cell_type": "markdown",
   "metadata": {},
   "source": [
    "## Required Libraries"
   ]
  },
  {
   "cell_type": "code",
   "execution_count": 7,
   "metadata": {},
   "outputs": [],
   "source": [
    "# Allows to work with CSV easily.\n",
    "import pandas as pd\n",
    "import numpy as np"
   ]
  },
  {
   "cell_type": "markdown",
   "metadata": {},
   "source": [
    "## Data Preprocessing\n"
   ]
  },
  {
   "cell_type": "markdown",
   "metadata": {},
   "source": [
    "We decided to charge the dataset from a external source to do the preprocessing to unify the zip code of brazil because in some datasets that contained this information was repeated or had different names.\n",
    "\n",
    "\n",
    "\n",
    "|customer_zip_code_id |code_zip_prefix |\n",
    "|--|--|\n",
    "|1 |1037 |"
   ]
  },
  {
   "cell_type": "markdown",
   "metadata": {},
   "source": [
    "### Data Correction"
   ]
  },
  {
   "cell_type": "code",
   "execution_count": 8,
   "metadata": {},
   "outputs": [],
   "source": [
    "code_zip_csv = '../../data/pre_interim/code_zip_prefix_dataset.csv'\n",
    "code_zip_df = pd.read_csv(code_zip_csv)"
   ]
  },
  {
   "cell_type": "markdown",
   "metadata": {},
   "source": [
    "#### Clean code zip prefix"
   ]
  },
  {
   "cell_type": "code",
   "execution_count": 9,
   "metadata": {},
   "outputs": [
    {
     "data": {
      "text/html": [
       "<div>\n",
       "<style scoped>\n",
       "    .dataframe tbody tr th:only-of-type {\n",
       "        vertical-align: middle;\n",
       "    }\n",
       "\n",
       "    .dataframe tbody tr th {\n",
       "        vertical-align: top;\n",
       "    }\n",
       "\n",
       "    .dataframe thead th {\n",
       "        text-align: right;\n",
       "    }\n",
       "</style>\n",
       "<table border=\"1\" class=\"dataframe\">\n",
       "  <thead>\n",
       "    <tr style=\"text-align: right;\">\n",
       "      <th></th>\n",
       "      <th>Unnamed: 0</th>\n",
       "      <th>code_zip_prefix_id</th>\n",
       "      <th>code_zip_prefix</th>\n",
       "    </tr>\n",
       "  </thead>\n",
       "  <tbody>\n",
       "    <tr>\n",
       "      <th>0</th>\n",
       "      <td>0</td>\n",
       "      <td>1</td>\n",
       "      <td>1037</td>\n",
       "    </tr>\n",
       "    <tr>\n",
       "      <th>1</th>\n",
       "      <td>1</td>\n",
       "      <td>2</td>\n",
       "      <td>1046</td>\n",
       "    </tr>\n",
       "    <tr>\n",
       "      <th>2</th>\n",
       "      <td>2</td>\n",
       "      <td>3</td>\n",
       "      <td>1041</td>\n",
       "    </tr>\n",
       "    <tr>\n",
       "      <th>3</th>\n",
       "      <td>3</td>\n",
       "      <td>4</td>\n",
       "      <td>1035</td>\n",
       "    </tr>\n",
       "    <tr>\n",
       "      <th>4</th>\n",
       "      <td>4</td>\n",
       "      <td>5</td>\n",
       "      <td>1012</td>\n",
       "    </tr>\n",
       "    <tr>\n",
       "      <th>...</th>\n",
       "      <td>...</td>\n",
       "      <td>...</td>\n",
       "      <td>...</td>\n",
       "    </tr>\n",
       "    <tr>\n",
       "      <th>19291</th>\n",
       "      <td>19292</td>\n",
       "      <td>19292</td>\n",
       "      <td>72338</td>\n",
       "    </tr>\n",
       "    <tr>\n",
       "      <th>19292</th>\n",
       "      <td>19293</td>\n",
       "      <td>19293</td>\n",
       "      <td>68629</td>\n",
       "    </tr>\n",
       "    <tr>\n",
       "      <th>19293</th>\n",
       "      <td>19294</td>\n",
       "      <td>19294</td>\n",
       "      <td>28530</td>\n",
       "    </tr>\n",
       "    <tr>\n",
       "      <th>19294</th>\n",
       "      <td>19295</td>\n",
       "      <td>19295</td>\n",
       "      <td>55863</td>\n",
       "    </tr>\n",
       "    <tr>\n",
       "      <th>19295</th>\n",
       "      <td>19296</td>\n",
       "      <td>19296</td>\n",
       "      <td>72587</td>\n",
       "    </tr>\n",
       "  </tbody>\n",
       "</table>\n",
       "<p>19296 rows × 3 columns</p>\n",
       "</div>"
      ],
      "text/plain": [
       "       Unnamed: 0  code_zip_prefix_id  code_zip_prefix\n",
       "0               0                   1             1037\n",
       "1               1                   2             1046\n",
       "2               2                   3             1041\n",
       "3               3                   4             1035\n",
       "4               4                   5             1012\n",
       "...           ...                 ...              ...\n",
       "19291       19292               19292            72338\n",
       "19292       19293               19293            68629\n",
       "19293       19294               19294            28530\n",
       "19294       19295               19295            55863\n",
       "19295       19296               19296            72587\n",
       "\n",
       "[19296 rows x 3 columns]"
      ]
     },
     "execution_count": 9,
     "metadata": {},
     "output_type": "execute_result"
    }
   ],
   "source": [
    "code_zip_df"
   ]
  },
  {
   "cell_type": "markdown",
   "metadata": {},
   "source": [
    "#### Fix dataset"
   ]
  },
  {
   "cell_type": "markdown",
   "metadata": {},
   "source": [
    "The column \"Unnamed: 0\" is eliminated because it comes from a previous index in pretreatment."
   ]
  },
  {
   "cell_type": "code",
   "execution_count": 10,
   "metadata": {},
   "outputs": [],
   "source": [
    "code_zip_df.drop(['Unnamed: 0'], axis=1, inplace=True)"
   ]
  },
  {
   "cell_type": "markdown",
   "metadata": {
    "cell_id": "930b61259be942e8be68865bb3c5a94f",
    "deepnote_cell_type": "text-cell-h3",
    "is_collapsed": false,
    "tags": []
   },
   "source": [
    "### Creating final csv: code_zip_prefix_dataset.csv"
   ]
  },
  {
   "cell_type": "markdown",
   "metadata": {},
   "source": [
    "finally the new csv file is created with the modified code zip prefix dataset. When you saved the dataset always mark **\"index = False\"**. Or pandas will add a new column with a consequtive number. This small script is to remove this useless column."
   ]
  },
  {
   "cell_type": "code",
   "execution_count": 11,
   "metadata": {},
   "outputs": [],
   "source": [
    "code_zip_df.to_csv('../../data/interim/code_zip_prefix_dataset.csv', index=False)"
   ]
  },
  {
   "cell_type": "markdown",
   "metadata": {},
   "source": [
    "## Final Column Description"
   ]
  },
  {
   "cell_type": "markdown",
   "metadata": {},
   "source": [
    "|**Column Title**|**code_zip_prefix_id -> int** |**code_zip_prefix -> int** |\n",
    "|--|--|--|\n",
    "|Description |Code zip prefix id Identifier Number |Customer Identifier Number |Zip Code prefix |\n",
    "|Before Preprocessing |1 |1037 ||"
   ]
  }
 ],
 "metadata": {
  "interpreter": {
   "hash": "81b04bfd233d90045c8809b2d3165442482cdf922a8658c59b23a8a11570eabf"
  },
  "kernelspec": {
   "display_name": "Python 3.9.12 ('brazil-e-commerce')",
   "language": "python",
   "name": "python3"
  },
  "language_info": {
   "codemirror_mode": {
    "name": "ipython",
    "version": 3
   },
   "file_extension": ".py",
   "mimetype": "text/x-python",
   "name": "python",
   "nbconvert_exporter": "python",
   "pygments_lexer": "ipython3",
   "version": "3.9.12"
  },
  "orig_nbformat": 4
 },
 "nbformat": 4,
 "nbformat_minor": 2
}
