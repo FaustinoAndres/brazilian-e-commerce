{
 "cells": [
  {
   "cell_type": "markdown",
   "metadata": {
    "cell_id": "46a5fd822c9f488f836a837f943e0a8b",
    "deepnote_cell_type": "text-cell-h1",
    "is_collapsed": false,
    "tags": []
   },
   "source": [
    "# Orders Datasets\n",
    "\n",
    "Contains purchase order information, tracking by delivery dates: carrier, customer, and estimated delivery "
   ]
  },
  {
   "cell_type": "markdown",
   "metadata": {},
   "source": [
    "## Initial Column Description\n"
   ]
  },
  {
   "cell_type": "markdown",
   "metadata": {},
   "source": [
    "|**Column Title**|**order_id-> str** |**customer_id -> str** |**order_status -> srt** |**order_purchase_timestamp -> timestamp**| **order_approved_at -> timestamp**|**order_delivered_carrier_date -> timestamp**|**order_delivered_customer_date -> timestamp**|**order_estimated_delivery_date -> timestamp**|\n",
    "|--|--|--|--|--|--|--|--|--|\n",
    "|Description |Primary key - unique identifier of the order|primary key to the customer dataset. Each order has a unique customer_id |Reference to the order status (delivered, shipped, etc) |Shows the purchase timestamp |Shows the payment approval timestamp |Shows the order posting timestamp. When it was handled to the logistic partner |Shows the actual order delivery date to the customer |Shows the estimated delivery date that was informed to customer at the purchase moment|\n",
    "|Example |e481f51cbdc54678b7cc49136f2d6af7 |9ef432eb6251297304e76186b10a928d |delivered\t |2017-10-02 10:56:33 |2017-10-02 11:07:15 |2017-10-04 19:55:00 |2017-10-10 21:25:13 |2017-10-18 00:00:00 |"
   ]
  },
  {
   "cell_type": "markdown",
   "metadata": {},
   "source": [
    "### Errors found\n",
    "+ For this table the raw data contain null or empties values, are the following:\n",
    "                             \n",
    "    + order_approved_at               -> qty: 160\n",
    "    + order_delivered_carrier_date    -> qty: 1783\n",
    "    + order_delivered_customer_date   -> qty: 2965\n",
    "\n",
    "This null values were corrected in the notebook orders_dataset that is in the folder pre-anlysis, also the merge between the orders dataset and unique_order_id was done to avoid repeated names and data in other tables.\n",
    " \n",
    "In this notebook it will be solved the main problem of this table is the format of the columns with dates (order_purchase_timestamp, order_approved_at, order_delivered_carrier_date, order_delivered_customer_date, order_estimated_delivery_date), because the engine chosen for the database does not accept dates with the format dd/mm/yyyy hh:MM.\n",
    "\n",
    "| **Column** | **type** |\n",
    "| --- | --- |\n",
    "| ID (**PK**)                   | int |\n",
    "| order_id                      | int |\n",
    "| customer_id                   | str |\n",
    "| order_status                  | str |\n",
    "| order_purchase_timestamp      | str |\n",
    "| order_approved_at             | str |\n",
    "| order_delivered_carrier_date  | str |\n",
    "| order_delivered_customer_date | str |\n",
    "| order_estimated_delivery_date | str |\n",
    "\n"
   ]
  },
  {
   "cell_type": "markdown",
   "metadata": {
    "cell_id": "314948de8a5a431aae9b7cb6c893ddcf",
    "deepnote_cell_type": "text-cell-h2",
    "is_collapsed": false,
    "tags": []
   },
   "source": [
    "## Data Preprocessing"
   ]
  },
  {
   "cell_type": "markdown",
   "metadata": {},
   "source": [
    "the date format will be corrected, changing the fowardslash sign ( / ) by a hyphen ( - )\n",
    "\n",
    "Example:\n",
    "\n",
    "|**order_purchase_timestamp**| **order_approved_at**|**order_delivered_carrier_date -> timestamp**|**order_delivered_customer_date**|**order_estimated_delivery_date**|\n",
    "|--|--|--|--|--|\n",
    "|2017/10/02 10:56:33 |2017/10/02 11:07:15 |2017/10-04 19:55:00 |2017/10/10 21:25:13 |2017/10/18 00:00:00 |\n",
    "\n",
    "what we need is transfrom datetime, like this:\n",
    "\n",
    "|**order_purchase_timestamp**| **order_approved_at**|**order_delivered_carrier_date -> timestamp**|**order_delivered_customer_date**|**order_estimated_delivery_date**|\n",
    "|--|--|--|--|--|\n",
    "|2017-10-02 10:56:33 |2017-10-02 11:07:15 |2017-10-04 19:55:00 |2017-10-10 21:25:13 |2017-10-18 00:00:00 |"
   ]
  },
  {
   "cell_type": "markdown",
   "metadata": {},
   "source": [
    "## Required Libraries"
   ]
  },
  {
   "cell_type": "code",
   "execution_count": 2,
   "metadata": {},
   "outputs": [],
   "source": [
    "import pandas as pd"
   ]
  },
  {
   "cell_type": "code",
   "execution_count": 3,
   "metadata": {},
   "outputs": [
    {
     "data": {
      "text/html": [
       "<div>\n",
       "<style scoped>\n",
       "    .dataframe tbody tr th:only-of-type {\n",
       "        vertical-align: middle;\n",
       "    }\n",
       "\n",
       "    .dataframe tbody tr th {\n",
       "        vertical-align: top;\n",
       "    }\n",
       "\n",
       "    .dataframe thead th {\n",
       "        text-align: right;\n",
       "    }\n",
       "</style>\n",
       "<table border=\"1\" class=\"dataframe\">\n",
       "  <thead>\n",
       "    <tr style=\"text-align: right;\">\n",
       "      <th></th>\n",
       "      <th>ID</th>\n",
       "      <th>order_id</th>\n",
       "      <th>customer_id</th>\n",
       "      <th>order_status</th>\n",
       "      <th>order_purchase_timestamp</th>\n",
       "      <th>order_approved_at</th>\n",
       "      <th>order_delivered_carrier_date</th>\n",
       "      <th>order_delivered_customer_date</th>\n",
       "      <th>order_estimated_delivery_date</th>\n",
       "    </tr>\n",
       "  </thead>\n",
       "  <tbody>\n",
       "    <tr>\n",
       "      <th>0</th>\n",
       "      <td>1</td>\n",
       "      <td>1</td>\n",
       "      <td>0a8556ac6be836b46b3e89920d59291c</td>\n",
       "      <td>delivered</td>\n",
       "      <td>25/04/2018 22:01</td>\n",
       "      <td>25/04/2018 22:15</td>\n",
       "      <td>2/05/2018 15:20</td>\n",
       "      <td>9/05/2018 17:36</td>\n",
       "      <td>22/05/2018 0:00</td>\n",
       "    </tr>\n",
       "    <tr>\n",
       "      <th>1</th>\n",
       "      <td>2</td>\n",
       "      <td>2</td>\n",
       "      <td>f2c7fc58a9de810828715166c672f10a</td>\n",
       "      <td>delivered</td>\n",
       "      <td>26/06/2018 11:01</td>\n",
       "      <td>26/06/2018 11:18</td>\n",
       "      <td>28/06/2018 14:18</td>\n",
       "      <td>29/06/2018 20:32</td>\n",
       "      <td>16/07/2018 0:00</td>\n",
       "    </tr>\n",
       "    <tr>\n",
       "      <th>2</th>\n",
       "      <td>3</td>\n",
       "      <td>3</td>\n",
       "      <td>25b14b69de0b6e184ae6fe2755e478f9</td>\n",
       "      <td>delivered</td>\n",
       "      <td>12/12/2017 11:19</td>\n",
       "      <td>14/12/2017 9:52</td>\n",
       "      <td>15/12/2017 20:13</td>\n",
       "      <td>18/12/2017 17:24</td>\n",
       "      <td>4/01/2018 0:00</td>\n",
       "    </tr>\n",
       "    <tr>\n",
       "      <th>3</th>\n",
       "      <td>4</td>\n",
       "      <td>4</td>\n",
       "      <td>7a5d8efaaa1081f800628c30d2b0728f</td>\n",
       "      <td>delivered</td>\n",
       "      <td>6/12/2017 12:04</td>\n",
       "      <td>6/12/2017 12:13</td>\n",
       "      <td>7/12/2017 20:28</td>\n",
       "      <td>21/12/2017 1:35</td>\n",
       "      <td>4/01/2018 0:00</td>\n",
       "    </tr>\n",
       "    <tr>\n",
       "      <th>4</th>\n",
       "      <td>5</td>\n",
       "      <td>5</td>\n",
       "      <td>15fd6fb8f8312dbb4674e4518d6fa3b3</td>\n",
       "      <td>delivered</td>\n",
       "      <td>21/05/2018 13:59</td>\n",
       "      <td>21/05/2018 16:14</td>\n",
       "      <td>22/05/2018 11:46</td>\n",
       "      <td>1/06/2018 21:44</td>\n",
       "      <td>13/06/2018 0:00</td>\n",
       "    </tr>\n",
       "  </tbody>\n",
       "</table>\n",
       "</div>"
      ],
      "text/plain": [
       "   ID  order_id                       customer_id order_status  \\\n",
       "0   1         1  0a8556ac6be836b46b3e89920d59291c    delivered   \n",
       "1   2         2  f2c7fc58a9de810828715166c672f10a    delivered   \n",
       "2   3         3  25b14b69de0b6e184ae6fe2755e478f9    delivered   \n",
       "3   4         4  7a5d8efaaa1081f800628c30d2b0728f    delivered   \n",
       "4   5         5  15fd6fb8f8312dbb4674e4518d6fa3b3    delivered   \n",
       "\n",
       "  order_purchase_timestamp order_approved_at order_delivered_carrier_date  \\\n",
       "0         25/04/2018 22:01  25/04/2018 22:15              2/05/2018 15:20   \n",
       "1         26/06/2018 11:01  26/06/2018 11:18             28/06/2018 14:18   \n",
       "2         12/12/2017 11:19   14/12/2017 9:52             15/12/2017 20:13   \n",
       "3          6/12/2017 12:04   6/12/2017 12:13              7/12/2017 20:28   \n",
       "4         21/05/2018 13:59  21/05/2018 16:14             22/05/2018 11:46   \n",
       "\n",
       "  order_delivered_customer_date order_estimated_delivery_date  \n",
       "0               9/05/2018 17:36               22/05/2018 0:00  \n",
       "1              29/06/2018 20:32               16/07/2018 0:00  \n",
       "2              18/12/2017 17:24                4/01/2018 0:00  \n",
       "3               21/12/2017 1:35                4/01/2018 0:00  \n",
       "4               1/06/2018 21:44               13/06/2018 0:00  "
      ]
     },
     "execution_count": 3,
     "metadata": {},
     "output_type": "execute_result"
    }
   ],
   "source": [
    "df = pd.read_csv('../../data/pre_interim/orders_dataset_std_columns.csv')\n",
    "df.head()"
   ]
  },
  {
   "cell_type": "code",
   "execution_count": 4,
   "metadata": {},
   "outputs": [
    {
     "data": {
      "text/plain": [
       "ID                                int64\n",
       "order_id                          int64\n",
       "customer_id                      object\n",
       "order_status                     object\n",
       "order_purchase_timestamp         object\n",
       "order_approved_at                object\n",
       "order_delivered_carrier_date     object\n",
       "order_delivered_customer_date    object\n",
       "order_estimated_delivery_date    object\n",
       "dtype: object"
      ]
     },
     "execution_count": 4,
     "metadata": {},
     "output_type": "execute_result"
    }
   ],
   "source": [
    "df.dtypes"
   ]
  },
  {
   "cell_type": "markdown",
   "metadata": {},
   "source": [
    "### Data Correction"
   ]
  },
  {
   "cell_type": "markdown",
   "metadata": {},
   "source": [
    "We will transform the mentioned columns to datetime with the `to_datetime()` method of pandas, which allows us to express the date in a PostgreSQL compatible format: yyyy-mm-dd hh:MM:ss"
   ]
  },
  {
   "cell_type": "code",
   "execution_count": 5,
   "metadata": {},
   "outputs": [],
   "source": [
    "df['order_purchase_timestamp'] = pd.to_datetime(df.order_purchase_timestamp)"
   ]
  },
  {
   "cell_type": "code",
   "execution_count": 6,
   "metadata": {},
   "outputs": [],
   "source": [
    "df['order_approved_at'] = pd.to_datetime(df.order_approved_at, errors='coerce')"
   ]
  },
  {
   "cell_type": "code",
   "execution_count": 7,
   "metadata": {},
   "outputs": [],
   "source": [
    "df['order_delivered_carrier_date'] = pd.to_datetime(df.order_delivered_carrier_date, errors='coerce')"
   ]
  },
  {
   "cell_type": "code",
   "execution_count": 8,
   "metadata": {},
   "outputs": [],
   "source": [
    "df['order_delivered_customer_date'] = pd.to_datetime(df.order_delivered_customer_date, errors='coerce')"
   ]
  },
  {
   "cell_type": "code",
   "execution_count": 9,
   "metadata": {},
   "outputs": [],
   "source": [
    "df['order_estimated_delivery_date'] = pd.to_datetime(df.order_estimated_delivery_date, errors='coerce')"
   ]
  },
  {
   "cell_type": "code",
   "execution_count": 10,
   "metadata": {},
   "outputs": [
    {
     "data": {
      "text/plain": [
       "ID                                        int64\n",
       "order_id                                  int64\n",
       "customer_id                              object\n",
       "order_status                             object\n",
       "order_purchase_timestamp         datetime64[ns]\n",
       "order_approved_at                datetime64[ns]\n",
       "order_delivered_carrier_date     datetime64[ns]\n",
       "order_delivered_customer_date    datetime64[ns]\n",
       "order_estimated_delivery_date    datetime64[ns]\n",
       "dtype: object"
      ]
     },
     "execution_count": 10,
     "metadata": {},
     "output_type": "execute_result"
    }
   ],
   "source": [
    "df.dtypes"
   ]
  },
  {
   "cell_type": "code",
   "execution_count": 11,
   "metadata": {},
   "outputs": [
    {
     "data": {
      "text/html": [
       "<div>\n",
       "<style scoped>\n",
       "    .dataframe tbody tr th:only-of-type {\n",
       "        vertical-align: middle;\n",
       "    }\n",
       "\n",
       "    .dataframe tbody tr th {\n",
       "        vertical-align: top;\n",
       "    }\n",
       "\n",
       "    .dataframe thead th {\n",
       "        text-align: right;\n",
       "    }\n",
       "</style>\n",
       "<table border=\"1\" class=\"dataframe\">\n",
       "  <thead>\n",
       "    <tr style=\"text-align: right;\">\n",
       "      <th></th>\n",
       "      <th>ID</th>\n",
       "      <th>order_id</th>\n",
       "      <th>customer_id</th>\n",
       "      <th>order_status</th>\n",
       "      <th>order_purchase_timestamp</th>\n",
       "      <th>order_approved_at</th>\n",
       "      <th>order_delivered_carrier_date</th>\n",
       "      <th>order_delivered_customer_date</th>\n",
       "      <th>order_estimated_delivery_date</th>\n",
       "    </tr>\n",
       "  </thead>\n",
       "  <tbody>\n",
       "    <tr>\n",
       "      <th>0</th>\n",
       "      <td>1</td>\n",
       "      <td>1</td>\n",
       "      <td>0a8556ac6be836b46b3e89920d59291c</td>\n",
       "      <td>delivered</td>\n",
       "      <td>2018-04-25 22:01:00</td>\n",
       "      <td>2018-04-25 22:15:00</td>\n",
       "      <td>2018-02-05 15:20:00</td>\n",
       "      <td>2018-09-05 17:36:00</td>\n",
       "      <td>2018-05-22</td>\n",
       "    </tr>\n",
       "    <tr>\n",
       "      <th>1</th>\n",
       "      <td>2</td>\n",
       "      <td>2</td>\n",
       "      <td>f2c7fc58a9de810828715166c672f10a</td>\n",
       "      <td>delivered</td>\n",
       "      <td>2018-06-26 11:01:00</td>\n",
       "      <td>2018-06-26 11:18:00</td>\n",
       "      <td>2018-06-28 14:18:00</td>\n",
       "      <td>2018-06-29 20:32:00</td>\n",
       "      <td>2018-07-16</td>\n",
       "    </tr>\n",
       "    <tr>\n",
       "      <th>2</th>\n",
       "      <td>3</td>\n",
       "      <td>3</td>\n",
       "      <td>25b14b69de0b6e184ae6fe2755e478f9</td>\n",
       "      <td>delivered</td>\n",
       "      <td>2017-12-12 11:19:00</td>\n",
       "      <td>2017-12-14 09:52:00</td>\n",
       "      <td>2017-12-15 20:13:00</td>\n",
       "      <td>2017-12-18 17:24:00</td>\n",
       "      <td>2018-04-01</td>\n",
       "    </tr>\n",
       "    <tr>\n",
       "      <th>3</th>\n",
       "      <td>4</td>\n",
       "      <td>4</td>\n",
       "      <td>7a5d8efaaa1081f800628c30d2b0728f</td>\n",
       "      <td>delivered</td>\n",
       "      <td>2017-06-12 12:04:00</td>\n",
       "      <td>2017-06-12 12:13:00</td>\n",
       "      <td>2017-07-12 20:28:00</td>\n",
       "      <td>2017-12-21 01:35:00</td>\n",
       "      <td>2018-04-01</td>\n",
       "    </tr>\n",
       "    <tr>\n",
       "      <th>4</th>\n",
       "      <td>5</td>\n",
       "      <td>5</td>\n",
       "      <td>15fd6fb8f8312dbb4674e4518d6fa3b3</td>\n",
       "      <td>delivered</td>\n",
       "      <td>2018-05-21 13:59:00</td>\n",
       "      <td>2018-05-21 16:14:00</td>\n",
       "      <td>2018-05-22 11:46:00</td>\n",
       "      <td>2018-01-06 21:44:00</td>\n",
       "      <td>2018-06-13</td>\n",
       "    </tr>\n",
       "  </tbody>\n",
       "</table>\n",
       "</div>"
      ],
      "text/plain": [
       "   ID  order_id                       customer_id order_status  \\\n",
       "0   1         1  0a8556ac6be836b46b3e89920d59291c    delivered   \n",
       "1   2         2  f2c7fc58a9de810828715166c672f10a    delivered   \n",
       "2   3         3  25b14b69de0b6e184ae6fe2755e478f9    delivered   \n",
       "3   4         4  7a5d8efaaa1081f800628c30d2b0728f    delivered   \n",
       "4   5         5  15fd6fb8f8312dbb4674e4518d6fa3b3    delivered   \n",
       "\n",
       "  order_purchase_timestamp   order_approved_at order_delivered_carrier_date  \\\n",
       "0      2018-04-25 22:01:00 2018-04-25 22:15:00          2018-02-05 15:20:00   \n",
       "1      2018-06-26 11:01:00 2018-06-26 11:18:00          2018-06-28 14:18:00   \n",
       "2      2017-12-12 11:19:00 2017-12-14 09:52:00          2017-12-15 20:13:00   \n",
       "3      2017-06-12 12:04:00 2017-06-12 12:13:00          2017-07-12 20:28:00   \n",
       "4      2018-05-21 13:59:00 2018-05-21 16:14:00          2018-05-22 11:46:00   \n",
       "\n",
       "  order_delivered_customer_date order_estimated_delivery_date  \n",
       "0           2018-09-05 17:36:00                    2018-05-22  \n",
       "1           2018-06-29 20:32:00                    2018-07-16  \n",
       "2           2017-12-18 17:24:00                    2018-04-01  \n",
       "3           2017-12-21 01:35:00                    2018-04-01  \n",
       "4           2018-01-06 21:44:00                    2018-06-13  "
      ]
     },
     "execution_count": 11,
     "metadata": {},
     "output_type": "execute_result"
    }
   ],
   "source": [
    "df.head()"
   ]
  },
  {
   "cell_type": "markdown",
   "metadata": {},
   "source": [
    "Finally, the table is as follows:\n",
    "\n",
    "| **Column** | **type** |\n",
    "| --- | --- |\n",
    "| ID (**PK**)                   | int |\n",
    "| order_id                      | int |\n",
    "| customer_id                   | str |\n",
    "| order_status                  | str |\n",
    "| order_purchase_timestamp      | datetime64 |\n",
    "| order_approved_at             | datetime64 |\n",
    "| order_delivered_carrier_date  | datetime64 |\n",
    "| order_delivered_customer_date | datetime64 |\n",
    "| order_estimated_delivery_date | datetime64 |"
   ]
  },
  {
   "cell_type": "markdown",
   "metadata": {
    "cell_id": "930b61259be942e8be68865bb3c5a94f",
    "deepnote_cell_type": "text-cell-h3",
    "is_collapsed": false,
    "tags": []
   },
   "source": [
    "### Creating final csv: orders_dataset.csv"
   ]
  },
  {
   "cell_type": "markdown",
   "metadata": {},
   "source": [
    "finally the new csv file is created with the modified order dataset. When you saved the dataset always mark **\"index = False\"**. Or pandas will add a new column with a consequtive number. This small script is to remove this useless column."
   ]
  },
  {
   "cell_type": "code",
   "execution_count": 17,
   "metadata": {},
   "outputs": [],
   "source": [
    "df['order_id'] = df['ID']"
   ]
  },
  {
   "cell_type": "code",
   "execution_count": 18,
   "metadata": {},
   "outputs": [],
   "source": [
    "df.to_csv('../../data/interim/orders_dataset_clean.csv', index = False, header = True)"
   ]
  },
  {
   "cell_type": "markdown",
   "metadata": {},
   "source": [
    "## Final Column Description"
   ]
  },
  {
   "cell_type": "markdown",
   "metadata": {},
   "source": [
    "\n",
    "|**Column Title**|**ID** |**order_id** |**customer_id** |**order_status** |**order_purchase_timestamp**| **order_approved_at**|**order_delivered_carrier_date**|**order_delivered_customer_date**|**order_estimated_delivery_date**|\n",
    "|--|--|--|--|--|--|--|--|--|--|\n",
    "|Before Preprocessing|1 |1 |0a8556ac6be836b46b3e89920d59291c |delivered\t |2017/10/02 10:56:33 |2017/10/02 11:07:15 |2017/10/04 19:55:00 |2017/10/10 21:25:13 |2017/10/18 00:00:00 |\n",
    "|After Preprocessing|1 |1 |0a8556ac6be836b46b3e89920d59291c |delivered\t |2017-10-02 10:56:33 |2017-10-02 11:07:15 |2017-10-04 19:55:00 |2017-10-10 21:25:13 |2017-10-18 00:00:00 |\n"
   ]
  }
 ],
 "metadata": {
  "interpreter": {
   "hash": "86cc94ec6182e521cfb6a76ad283dbeab7f7eeedec4ea15e57fd99ae1fbd5505"
  },
  "kernelspec": {
   "display_name": "Python 3.9.7 ('base')",
   "language": "python",
   "name": "python3"
  },
  "language_info": {
   "codemirror_mode": {
    "name": "ipython",
    "version": 3
   },
   "file_extension": ".py",
   "mimetype": "text/x-python",
   "name": "python",
   "nbconvert_exporter": "python",
   "pygments_lexer": "ipython3",
   "version": "3.9.7"
  },
  "orig_nbformat": 4
 },
 "nbformat": 4,
 "nbformat_minor": 2
}
