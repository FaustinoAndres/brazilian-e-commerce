{
 "cells": [
  {
   "cell_type": "markdown",
   "source": "# Brazilian&nbsp;E-commers&nbsp;Data&nbsp;Visualization",
   "metadata": {
    "cell_id": "d9a1d2107fa044ab887a54ca6188164c",
    "tags": [],
    "is_collapsed": false,
    "deepnote_cell_type": "text-cell-h1"
   }
  },
  {
   "cell_type": "markdown",
   "source": "### Importing libraries to use and connect to the DataBase",
   "metadata": {
    "cell_id": "ae4ed5eeee4c47cabe60a0ee995f2b00",
    "tags": [],
    "is_collapsed": false,
    "deepnote_cell_type": "text-cell-h3"
   }
  },
  {
   "cell_type": "code",
   "metadata": {
    "tags": [],
    "cell_id": "14da619f-6777-4004-9d40-f2311cdf42db",
    "deepnote_to_be_reexecuted": false,
    "source_hash": "df16256",
    "execution_start": 1651014821349,
    "execution_millis": 2193,
    "deepnote_cell_type": "code",
    "deepnote_cell_height": 544.0625
   },
   "source": "import math\nimport matplotlib.pyplot as plt\nimport numpy as np\nimport pandas as pd\nimport psycopg2\nimport seaborn as sns\nimport folium  #needed for interactive map\nfrom folium.plugins import HeatMap\n\n# CONNECTION TO THE DATABASE\ntry:\n    conn = psycopg2.connect(\n        host = \"ec2-54-157-79-121.compute-1.amazonaws.com\",\n        database = \"d42ekpicafpt4b\",\n        user = \"okskipddgcuaix\",\n        password = \"f4389a6257140d0f66be8163b27d131299ec2aa73455aa07991669ea689eb008\"\n        )\n\n    print(\"Successful connection\")\n    #cursor = conn.cursor()\n    #row = cursor.fetchone()\n    #print(row)\n\nexcept Exception as ex:\n    print(ex)",
   "execution_count": 1,
   "outputs": [
    {
     "name": "stdout",
     "text": "Successful connection\n",
     "output_type": "stream"
    }
   ]
  },
  {
   "cell_type": "markdown",
   "source": "### Select Payment Table",
   "metadata": {
    "cell_id": "594709eefb9a4d2dbd894cb724fe554d",
    "tags": [],
    "is_collapsed": false,
    "deepnote_cell_type": "text-cell-h3"
   }
  },
  {
   "cell_type": "code",
   "metadata": {
    "cell_id": "3d334917998449c5bbcca8fc86cf5243",
    "tags": [],
    "deepnote_to_be_reexecuted": false,
    "source_hash": "d8861cd6",
    "execution_start": 1651014823547,
    "execution_millis": 0,
    "deepnote_cell_type": "code",
    "deepnote_cell_height": 80.9375
   },
   "source": "order_payments_table = \"SELECT * FROM order_payments_table\"",
   "execution_count": 2,
   "outputs": []
  },
  {
   "cell_type": "markdown",
   "source": "### Transform to dataset",
   "metadata": {
    "cell_id": "58f37fe7158d42a48666b116b65290c4",
    "tags": [],
    "is_collapsed": false,
    "deepnote_cell_type": "text-cell-h3"
   }
  },
  {
   "cell_type": "code",
   "metadata": {
    "cell_id": "6989f56d81c346258fa49c3600010997",
    "tags": [],
    "deepnote_to_be_reexecuted": false,
    "source_hash": "59442487",
    "execution_start": 1651014823553,
    "execution_millis": 618,
    "deepnote_cell_type": "code",
    "deepnote_cell_height": 80.9375
   },
   "source": "dfPayments = pd.io.sql.read_sql_query(order_payments_table, conn)",
   "execution_count": 3,
   "outputs": []
  },
  {
   "cell_type": "markdown",
   "source": "### Cual es el promedio de cuotas se pagan según el método de pago?",
   "metadata": {
    "cell_id": "ea44980c2ea84fea9e9939edc7fc2dea",
    "tags": [],
    "is_collapsed": false,
    "deepnote_cell_type": "text-cell-h3"
   }
  },
  {
   "cell_type": "code",
   "source": "dfAgrupado = dfPayments.groupby('payment_type')['payment_installments'].mean()\nprint(dfAgrupado)",
   "metadata": {
    "cell_id": "2bdaa83713394775b8c0d11d357e9a5c",
    "tags": [],
    "deepnote_to_be_reexecuted": false,
    "source_hash": "ce95c73",
    "execution_start": 1651014824179,
    "execution_millis": 14,
    "deepnote_cell_type": "code",
    "deepnote_cell_height": 250.953125,
    "deepnote_output_heights": [
     21
    ]
   },
   "outputs": [
    {
     "name": "stdout",
     "text": "payment_type\nboleto         1.000000\ncredit_card    3.507155\ndebit_card     1.000000\nnot_defined    1.000000\nvoucher        1.000000\nName: payment_installments, dtype: float64\n",
     "output_type": "stream"
    }
   ],
   "execution_count": 4
  },
  {
   "cell_type": "markdown",
   "source": "Se observa con la agrupación y el promedio (media) que el único método de pago utilizado para pagar mas de una (1) cuota es tarjeta de crédito \"credit_card\". Esta observación nos indica que el método de pago que se puede analizar es el de tarjeta de crédito.",
   "metadata": {
    "cell_id": "e06dda02ae8f44d19ceed62ebf4ab594",
    "tags": [],
    "is_collapsed": false,
    "deepnote_cell_type": "text-cell-p"
   }
  },
  {
   "cell_type": "markdown",
   "source": "### Cuanto es el mínimo, máximo, mediana de cuotas que se pagan con tarjeta de crédito?",
   "metadata": {
    "cell_id": "d8ae3755ffa640d98080cb6031f353f7",
    "tags": [],
    "is_collapsed": false,
    "deepnote_cell_type": "text-cell-h3"
   }
  },
  {
   "cell_type": "code",
   "source": "dfCreditCard = dfPayments[dfPayments['payment_type'] == 'credit_card'].sort_values('payment_installments', ascending=1)\ndfCreditCard = dfCreditCard[dfCreditCard['payment_installments'] > 0]\nmin = dfCreditCard['payment_installments'].min()\nmax = dfCreditCard['payment_installments'].max()\nvalores = dfCreditCard['payment_installments'].unique()\nmedian = np.median(valores)\nprint(min, max, median)\nprint(dfCreditCard)",
   "metadata": {
    "cell_id": "d3a835ba63994bce805e52054efe9c58",
    "tags": [],
    "deepnote_to_be_reexecuted": false,
    "source_hash": "6bbcdf9f",
    "execution_start": 1651014824211,
    "execution_millis": 47,
    "deepnote_table_state": {
     "pageSize": 10,
     "pageIndex": 0,
     "filters": [],
     "sortBy": [
      {
       "id": "payment_installments",
       "type": "desc"
      }
     ]
    },
    "deepnote_table_loading": false,
    "deepnote_cell_type": "code",
    "deepnote_cell_height": 781.953125
   },
   "outputs": [
    {
     "name": "stdout",
     "text": "1 24 12.0\n          id  order_id  payment_sequential payment_type  payment_installments  \\\n46458  46459     45333                   1  credit_card                     1   \n46460  46461     45335                   1  credit_card                     1   \n46461  46462     45336                   1  credit_card                     1   \n96843  96844     92879                   1  credit_card                     1   \n46465  46466     45340                   1  credit_card                     1   \n...      ...       ...                 ...          ...                   ...   \n55094  55095     53561                   1  credit_card                    24   \n12307  12308     12201                   1  credit_card                    24   \n2970    2971      2964                   1  credit_card                    24   \n36088  36089     35381                   1  credit_card                    24   \n10791  10792     10709                   1  credit_card                    24   \n\n       payment_value  \n46458         239.64  \n46460          20.60  \n46461          54.62  \n96843          76.08  \n46465         188.99  \n...              ...  \n55094        1194.38  \n12307         756.49  \n2970          274.84  \n36088         286.78  \n10791         609.56  \n\n[76793 rows x 6 columns]\n",
     "output_type": "stream"
    }
   ],
   "execution_count": 5
  },
  {
   "cell_type": "markdown",
   "source": "Se observa que el mínimo de cuotas es: 1 (una) cuota; el máximo de cuotas es de 24 (veinticuatro) cuotas; la mediana de cuotas es de 12 (doce) cuotas para el método de pago tarjeta de crédito",
   "metadata": {
    "cell_id": "c45c34a8f71e45de90b76431fc25017d",
    "tags": [],
    "is_collapsed": false,
    "deepnote_cell_type": "text-cell-p"
   }
  },
  {
   "cell_type": "markdown",
   "source": "### Cuantos pagos se realizaron según el número de cuotas?",
   "metadata": {
    "cell_id": "efb2487b9eab4050b8e672f2dbc4d614",
    "tags": [],
    "is_collapsed": false,
    "deepnote_cell_type": "text-cell-h3"
   }
  },
  {
   "cell_type": "code",
   "source": "df = dfCreditCard.groupby('payment_installments')['id'].count()\nprint(df)",
   "metadata": {
    "cell_id": "b67fc4b96e6c4abcb31b63709f5a6a09",
    "tags": [],
    "deepnote_to_be_reexecuted": false,
    "source_hash": "f0ea8fa9",
    "execution_start": 1651014824263,
    "execution_millis": 3,
    "deepnote_table_state": {
     "pageSize": 10,
     "pageIndex": 0,
     "filters": [],
     "sortBy": []
    },
    "deepnote_table_loading": false,
    "deepnote_table_invalid": false,
    "deepnote_cell_type": "code",
    "deepnote_cell_height": 613.96875,
    "deepnote_output_heights": [
     21.171875
    ]
   },
   "outputs": [
    {
     "name": "stdout",
     "text": "payment_installments\n1     25455\n2     12413\n3     10461\n4      7098\n5      5239\n6      3920\n7      1626\n8      4268\n9       644\n10     5328\n11       23\n12      133\n13       16\n14       15\n15       74\n16        5\n17        8\n18       27\n20       17\n21        3\n22        1\n23        1\n24       18\nName: id, dtype: int64\n",
     "output_type": "stream"
    }
   ],
   "execution_count": 6
  },
  {
   "cell_type": "markdown",
   "source": "Se observa que se realizaron 25455 pagos de una cuota, 12413 pago de dos cuotas y así sucesivamente.",
   "metadata": {
    "cell_id": "88318c0291de4066b4826eaef5511278",
    "tags": [],
    "is_collapsed": false,
    "owner_user_id": "04a948d5-3d4e-450d-9f4f-81757f81de02",
    "deepnote_cell_type": "text-cell-p"
   }
  },
  {
   "cell_type": "markdown",
   "source": "<a style='text-decoration:none;line-height:16px;display:flex;color:#5B5B62;padding:10px;justify-content:end;' href='https://deepnote.com?utm_source=created-in-deepnote-cell&projectId=52e324f1-f7f5-4caa-9d11-b7c0b4fab5ac' target=\"_blank\">\n<img alt='Created in deepnote.com' style='display:inline;max-height:16px;margin:0px;margin-right:7.5px;' src='data:image/svg+xml;base64,PD94bWwgdmVyc2lvbj0iMS4wIiBlbmNvZGluZz0iVVRGLTgiPz4KPHN2ZyB3aWR0aD0iODBweCIgaGVpZ2h0PSI4MHB4IiB2aWV3Qm94PSIwIDAgODAgODAiIHZlcnNpb249IjEuMSIgeG1sbnM9Imh0dHA6Ly93d3cudzMub3JnLzIwMDAvc3ZnIiB4bWxuczp4bGluaz0iaHR0cDovL3d3dy53My5vcmcvMTk5OS94bGluayI+CiAgICA8IS0tIEdlbmVyYXRvcjogU2tldGNoIDU0LjEgKDc2NDkwKSAtIGh0dHBzOi8vc2tldGNoYXBwLmNvbSAtLT4KICAgIDx0aXRsZT5Hcm91cCAzPC90aXRsZT4KICAgIDxkZXNjPkNyZWF0ZWQgd2l0aCBTa2V0Y2guPC9kZXNjPgogICAgPGcgaWQ9IkxhbmRpbmciIHN0cm9rZT0ibm9uZSIgc3Ryb2tlLXdpZHRoPSIxIiBmaWxsPSJub25lIiBmaWxsLXJ1bGU9ImV2ZW5vZGQiPgogICAgICAgIDxnIGlkPSJBcnRib2FyZCIgdHJhbnNmb3JtPSJ0cmFuc2xhdGUoLTEyMzUuMDAwMDAwLCAtNzkuMDAwMDAwKSI+CiAgICAgICAgICAgIDxnIGlkPSJHcm91cC0zIiB0cmFuc2Zvcm09InRyYW5zbGF0ZSgxMjM1LjAwMDAwMCwgNzkuMDAwMDAwKSI+CiAgICAgICAgICAgICAgICA8cG9seWdvbiBpZD0iUGF0aC0yMCIgZmlsbD0iIzAyNjVCNCIgcG9pbnRzPSIyLjM3NjIzNzYyIDgwIDM4LjA0NzY2NjcgODAgNTcuODIxNzgyMiA3My44MDU3NTkyIDU3LjgyMTc4MjIgMzIuNzU5MjczOSAzOS4xNDAyMjc4IDMxLjY4MzE2ODMiPjwvcG9seWdvbj4KICAgICAgICAgICAgICAgIDxwYXRoIGQ9Ik0zNS4wMDc3MTgsODAgQzQyLjkwNjIwMDcsNzYuNDU0OTM1OCA0Ny41NjQ5MTY3LDcxLjU0MjI2NzEgNDguOTgzODY2LDY1LjI2MTk5MzkgQzUxLjExMjI4OTksNTUuODQxNTg0MiA0MS42NzcxNzk1LDQ5LjIxMjIyODQgMjUuNjIzOTg0Niw0OS4yMTIyMjg0IEMyNS40ODQ5Mjg5LDQ5LjEyNjg0NDggMjkuODI2MTI5Niw0My4yODM4MjQ4IDM4LjY0NzU4NjksMzEuNjgzMTY4MyBMNzIuODcxMjg3MSwzMi41NTQ0MjUgTDY1LjI4MDk3Myw2Ny42NzYzNDIxIEw1MS4xMTIyODk5LDc3LjM3NjE0NCBMMzUuMDA3NzE4LDgwIFoiIGlkPSJQYXRoLTIyIiBmaWxsPSIjMDAyODY4Ij48L3BhdGg+CiAgICAgICAgICAgICAgICA8cGF0aCBkPSJNMCwzNy43MzA0NDA1IEwyNy4xMTQ1MzcsMC4yNTcxMTE0MzYgQzYyLjM3MTUxMjMsLTEuOTkwNzE3MDEgODAsMTAuNTAwMzkyNyA4MCwzNy43MzA0NDA1IEM4MCw2NC45NjA0ODgyIDY0Ljc3NjUwMzgsNzkuMDUwMzQxNCAzNC4zMjk1MTEzLDgwIEM0Ny4wNTUzNDg5LDc3LjU2NzA4MDggNTMuNDE4MjY3Nyw3MC4zMTM2MTAzIDUzLjQxODI2NzcsNTguMjM5NTg4NSBDNTMuNDE4MjY3Nyw0MC4xMjg1NTU3IDM2LjMwMzk1NDQsMzcuNzMwNDQwNSAyNS4yMjc0MTcsMzcuNzMwNDQwNSBDMTcuODQzMDU4NiwzNy43MzA0NDA1IDkuNDMzOTE5NjYsMzcuNzMwNDQwNSAwLDM3LjczMDQ0MDUgWiIgaWQ9IlBhdGgtMTkiIGZpbGw9IiMzNzkzRUYiPjwvcGF0aD4KICAgICAgICAgICAgPC9nPgogICAgICAgIDwvZz4KICAgIDwvZz4KPC9zdmc+' > </img>\nCreated in <span style='font-weight:600;margin-left:4px;'>Deepnote</span></a>",
   "metadata": {
    "tags": [],
    "created_in_deepnote_cell": true,
    "deepnote_cell_type": "markdown"
   }
  }
 ],
 "nbformat": 4,
 "nbformat_minor": 2,
 "metadata": {
  "orig_nbformat": 2,
  "deepnote": {},
  "deepnote_notebook_id": "7826514e-dd48-4b77-8799-8f4878524868",
  "deepnote_execution_queue": []
 }
}