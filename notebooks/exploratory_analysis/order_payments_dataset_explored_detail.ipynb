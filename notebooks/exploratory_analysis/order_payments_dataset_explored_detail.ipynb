{
 "cells": [
  {
   "cell_type": "markdown",
   "source": "### Análisis detallado y transformación de la tabla  olist_order_payments_dataset.csv",
   "metadata": {
    "cell_id": "cd64f81a-ced5-4c7c-a5c7-7cda2d27ba4c",
    "deepnote_cell_type": "markdown",
    "deepnote_cell_height": 61.953125
   }
  },
  {
   "cell_type": "code",
   "metadata": {
    "deepnote_to_be_reexecuted": false,
    "source_hash": "d1486f1f",
    "execution_start": 1649122930230,
    "execution_millis": 1740,
    "cell_id": "00001-27cd6c60-beaf-44e4-a082-2e41410a4952",
    "deepnote_cell_type": "code",
    "deepnote_cell_height": 224.953125
   },
   "source": "# Importar librerías aquí\n#Herramienta que nos permite importar, gestionar de mejor forma el conjunto de datos\nimport pandas as pd\n#Herramienta que nos ayuda en el manejo matematico de los datos \nimport numpy as np\n#Libreria que nos ayuda en la visualización de datos\nimport matplotlib.pyplot as plt\n#Herramienta de visualización de datos\nimport seaborn as sns",
   "outputs": [],
   "execution_count": null
  },
  {
   "cell_type": "code",
   "metadata": {
    "deepnote_to_be_reexecuted": false,
    "source_hash": "a3678476",
    "execution_start": 1649122931974,
    "execution_millis": 144,
    "cell_id": "00002-7152a7e9-dc2a-4881-8b6d-8ecb42f9620c",
    "deepnote_cell_type": "code",
    "deepnote_cell_height": 98.953125
   },
   "source": "# Importar datos aquí\ndf = pd.read_csv(\"/work/dataset/olist_order_payments_dataset.csv\")",
   "outputs": [],
   "execution_count": null
  },
  {
   "cell_type": "code",
   "metadata": {
    "tags": [],
    "deepnote_to_be_reexecuted": false,
    "source_hash": "443e0342",
    "execution_start": 1649122932135,
    "execution_millis": 277,
    "deepnote_table_state": {
     "pageSize": 10,
     "pageIndex": 0,
     "filters": [],
     "sortBy": []
    },
    "deepnote_table_loading": false,
    "cell_id": "00004-5badc324-f09a-4095-9460-f3be51290099",
    "deepnote_table_invalid": false,
    "deepnote_cell_type": "code",
    "deepnote_cell_height": 287.921875
   },
   "source": "#Caso de dos tipos de pago para una misma orden con diferentes cuotas\ndf[df['order_id'] == '5cfd514482e22bc992e7693f0e3e8df7'].sort_values('payment_sequential', ascending=1)",
   "outputs": [
    {
     "output_type": "execute_result",
     "execution_count": 3,
     "data": {
      "application/vnd.deepnote.dataframe.v3+json": {
       "column_count": 5,
       "row_count": 2,
       "columns": [
        {
         "name": "order_id",
         "dtype": "object",
         "stats": {
          "unique_count": 1,
          "nan_count": 0,
          "categories": [
           {
            "name": "5cfd514482e22bc992e7693f0e3e8df7",
            "count": 2
           }
          ]
         }
        },
        {
         "name": "payment_sequential",
         "dtype": "int64",
         "stats": {
          "unique_count": 2,
          "nan_count": 0,
          "min": "1",
          "max": "2",
          "histogram": [
           {
            "bin_start": 1,
            "bin_end": 1.1,
            "count": 1
           },
           {
            "bin_start": 1.1,
            "bin_end": 1.2,
            "count": 0
           },
           {
            "bin_start": 1.2,
            "bin_end": 1.3,
            "count": 0
           },
           {
            "bin_start": 1.3,
            "bin_end": 1.4,
            "count": 0
           },
           {
            "bin_start": 1.4,
            "bin_end": 1.5,
            "count": 0
           },
           {
            "bin_start": 1.5,
            "bin_end": 1.6,
            "count": 0
           },
           {
            "bin_start": 1.6,
            "bin_end": 1.7000000000000002,
            "count": 0
           },
           {
            "bin_start": 1.7000000000000002,
            "bin_end": 1.8,
            "count": 0
           },
           {
            "bin_start": 1.8,
            "bin_end": 1.9,
            "count": 0
           },
           {
            "bin_start": 1.9,
            "bin_end": 2,
            "count": 1
           }
          ]
         }
        },
        {
         "name": "payment_type",
         "dtype": "object",
         "stats": {
          "unique_count": 2,
          "nan_count": 0,
          "categories": [
           {
            "name": "credit_card",
            "count": 1
           },
           {
            "name": "voucher",
            "count": 1
           }
          ]
         }
        },
        {
         "name": "payment_installments",
         "dtype": "int64",
         "stats": {
          "unique_count": 2,
          "nan_count": 0,
          "min": "1",
          "max": "4",
          "histogram": [
           {
            "bin_start": 1,
            "bin_end": 1.3,
            "count": 1
           },
           {
            "bin_start": 1.3,
            "bin_end": 1.6,
            "count": 0
           },
           {
            "bin_start": 1.6,
            "bin_end": 1.9,
            "count": 0
           },
           {
            "bin_start": 1.9,
            "bin_end": 2.2,
            "count": 0
           },
           {
            "bin_start": 2.2,
            "bin_end": 2.5,
            "count": 0
           },
           {
            "bin_start": 2.5,
            "bin_end": 2.8,
            "count": 0
           },
           {
            "bin_start": 2.8,
            "bin_end": 3.1,
            "count": 0
           },
           {
            "bin_start": 3.1,
            "bin_end": 3.4,
            "count": 0
           },
           {
            "bin_start": 3.4,
            "bin_end": 3.6999999999999997,
            "count": 0
           },
           {
            "bin_start": 3.6999999999999997,
            "bin_end": 4,
            "count": 1
           }
          ]
         }
        },
        {
         "name": "payment_value",
         "dtype": "float64",
         "stats": {
          "unique_count": 2,
          "nan_count": 0,
          "min": "45.17",
          "max": "665.41",
          "histogram": [
           {
            "bin_start": 45.17,
            "bin_end": 107.194,
            "count": 1
           },
           {
            "bin_start": 107.194,
            "bin_end": 169.21800000000002,
            "count": 0
           },
           {
            "bin_start": 169.21800000000002,
            "bin_end": 231.24200000000002,
            "count": 0
           },
           {
            "bin_start": 231.24200000000002,
            "bin_end": 293.266,
            "count": 0
           },
           {
            "bin_start": 293.266,
            "bin_end": 355.29,
            "count": 0
           },
           {
            "bin_start": 355.29,
            "bin_end": 417.314,
            "count": 0
           },
           {
            "bin_start": 417.314,
            "bin_end": 479.338,
            "count": 0
           },
           {
            "bin_start": 479.338,
            "bin_end": 541.362,
            "count": 0
           },
           {
            "bin_start": 541.362,
            "bin_end": 603.386,
            "count": 0
           },
           {
            "bin_start": 603.386,
            "bin_end": 665.41,
            "count": 1
           }
          ]
         }
        },
        {
         "name": "_deepnote_index_column",
         "dtype": "int64"
        }
       ],
       "rows": [
        {
         "order_id": "5cfd514482e22bc992e7693f0e3e8df7",
         "payment_sequential": 1,
         "payment_type": "credit_card",
         "payment_installments": 4,
         "payment_value": 665.41,
         "_deepnote_index_column": 57742
        },
        {
         "order_id": "5cfd514482e22bc992e7693f0e3e8df7",
         "payment_sequential": 2,
         "payment_type": "voucher",
         "payment_installments": 1,
         "payment_value": 45.17,
         "_deepnote_index_column": 25
        }
       ]
      },
      "text/plain": "                               order_id  payment_sequential payment_type  \\\n57742  5cfd514482e22bc992e7693f0e3e8df7                   1  credit_card   \n25     5cfd514482e22bc992e7693f0e3e8df7                   2      voucher   \n\n       payment_installments  payment_value  \n57742                     4         665.41  \n25                        1          45.17  ",
      "text/html": "<div>\n<style scoped>\n    .dataframe tbody tr th:only-of-type {\n        vertical-align: middle;\n    }\n\n    .dataframe tbody tr th {\n        vertical-align: top;\n    }\n\n    .dataframe thead th {\n        text-align: right;\n    }\n</style>\n<table border=\"1\" class=\"dataframe\">\n  <thead>\n    <tr style=\"text-align: right;\">\n      <th></th>\n      <th>order_id</th>\n      <th>payment_sequential</th>\n      <th>payment_type</th>\n      <th>payment_installments</th>\n      <th>payment_value</th>\n    </tr>\n  </thead>\n  <tbody>\n    <tr>\n      <th>57742</th>\n      <td>5cfd514482e22bc992e7693f0e3e8df7</td>\n      <td>1</td>\n      <td>credit_card</td>\n      <td>4</td>\n      <td>665.41</td>\n    </tr>\n    <tr>\n      <th>25</th>\n      <td>5cfd514482e22bc992e7693f0e3e8df7</td>\n      <td>2</td>\n      <td>voucher</td>\n      <td>1</td>\n      <td>45.17</td>\n    </tr>\n  </tbody>\n</table>\n</div>"
     },
     "metadata": {}
    }
   ],
   "execution_count": null
  },
  {
   "cell_type": "code",
   "metadata": {
    "tags": [],
    "deepnote_to_be_reexecuted": false,
    "source_hash": "598b67bf",
    "deepnote_table_state": {
     "pageSize": 10,
     "pageIndex": 0,
     "filters": [],
     "sortBy": []
    },
    "deepnote_table_loading": false,
    "cell_id": "eba0806afafa431086c2232583f42204",
    "deepnote_table_invalid": false,
    "allow_embed": false,
    "execution_start": 1649122932200,
    "execution_millis": 220,
    "deepnote_cell_type": "code",
    "deepnote_cell_height": 615.90625
   },
   "source": "#Caso de pago a cuotas con diferentes métodos de pago en una misma orden y cuotas individuales\ndf[df['order_id'] == 'ccf804e764ed5650cd8759557269dc13'].sort_values('payment_sequential', ascending=1)",
   "outputs": [
    {
     "output_type": "execute_result",
     "execution_count": 4,
     "data": {
      "application/vnd.deepnote.dataframe.v3+json": {
       "column_count": 5,
       "row_count": 26,
       "columns": [
        {
         "name": "order_id",
         "dtype": "object",
         "stats": {
          "unique_count": 1,
          "nan_count": 0,
          "categories": [
           {
            "name": "ccf804e764ed5650cd8759557269dc13",
            "count": 26
           }
          ]
         }
        },
        {
         "name": "payment_sequential",
         "dtype": "int64",
         "stats": {
          "unique_count": 26,
          "nan_count": 0,
          "min": "1",
          "max": "26",
          "histogram": [
           {
            "bin_start": 1,
            "bin_end": 3.5,
            "count": 3
           },
           {
            "bin_start": 3.5,
            "bin_end": 6,
            "count": 2
           },
           {
            "bin_start": 6,
            "bin_end": 8.5,
            "count": 3
           },
           {
            "bin_start": 8.5,
            "bin_end": 11,
            "count": 2
           },
           {
            "bin_start": 11,
            "bin_end": 13.5,
            "count": 3
           },
           {
            "bin_start": 13.5,
            "bin_end": 16,
            "count": 2
           },
           {
            "bin_start": 16,
            "bin_end": 18.5,
            "count": 3
           },
           {
            "bin_start": 18.5,
            "bin_end": 21,
            "count": 2
           },
           {
            "bin_start": 21,
            "bin_end": 23.5,
            "count": 3
           },
           {
            "bin_start": 23.5,
            "bin_end": 26,
            "count": 3
           }
          ]
         }
        },
        {
         "name": "payment_type",
         "dtype": "object",
         "stats": {
          "unique_count": 2,
          "nan_count": 0,
          "categories": [
           {
            "name": "voucher",
            "count": 25
           },
           {
            "name": "credit_card",
            "count": 1
           }
          ]
         }
        },
        {
         "name": "payment_installments",
         "dtype": "int64",
         "stats": {
          "unique_count": 1,
          "nan_count": 0,
          "min": "1",
          "max": "1",
          "histogram": [
           {
            "bin_start": 0.5,
            "bin_end": 0.6,
            "count": 0
           },
           {
            "bin_start": 0.6,
            "bin_end": 0.7,
            "count": 0
           },
           {
            "bin_start": 0.7,
            "bin_end": 0.8,
            "count": 0
           },
           {
            "bin_start": 0.8,
            "bin_end": 0.9,
            "count": 0
           },
           {
            "bin_start": 0.9,
            "bin_end": 1,
            "count": 0
           },
           {
            "bin_start": 1,
            "bin_end": 1.1,
            "count": 26
           },
           {
            "bin_start": 1.1,
            "bin_end": 1.2000000000000002,
            "count": 0
           },
           {
            "bin_start": 1.2000000000000002,
            "bin_end": 1.3,
            "count": 0
           },
           {
            "bin_start": 1.3,
            "bin_end": 1.4,
            "count": 0
           },
           {
            "bin_start": 1.4,
            "bin_end": 1.5,
            "count": 0
           }
          ]
         }
        },
        {
         "name": "payment_value",
         "dtype": "float64",
         "stats": {
          "unique_count": 22,
          "nan_count": 0,
          "min": "0.97",
          "max": "23.1",
          "histogram": [
           {
            "bin_start": 0.97,
            "bin_end": 3.183,
            "count": 25
           },
           {
            "bin_start": 3.183,
            "bin_end": 5.396,
            "count": 0
           },
           {
            "bin_start": 5.396,
            "bin_end": 7.609,
            "count": 0
           },
           {
            "bin_start": 7.609,
            "bin_end": 9.822000000000001,
            "count": 0
           },
           {
            "bin_start": 9.822000000000001,
            "bin_end": 12.035000000000002,
            "count": 0
           },
           {
            "bin_start": 12.035000000000002,
            "bin_end": 14.248000000000001,
            "count": 0
           },
           {
            "bin_start": 14.248000000000001,
            "bin_end": 16.461,
            "count": 0
           },
           {
            "bin_start": 16.461,
            "bin_end": 18.674,
            "count": 0
           },
           {
            "bin_start": 18.674,
            "bin_end": 20.887,
            "count": 0
           },
           {
            "bin_start": 20.887,
            "bin_end": 23.1,
            "count": 1
           }
          ]
         }
        },
        {
         "name": "_deepnote_index_column",
         "dtype": "int64"
        }
       ],
       "rows": [
        {
         "order_id": "ccf804e764ed5650cd8759557269dc13",
         "payment_sequential": 1,
         "payment_type": "credit_card",
         "payment_installments": 1,
         "payment_value": 2.2,
         "_deepnote_index_column": 14362
        },
        {
         "order_id": "ccf804e764ed5650cd8759557269dc13",
         "payment_sequential": 2,
         "payment_type": "voucher",
         "payment_installments": 1,
         "payment_value": 1.45,
         "_deepnote_index_column": 38001
        },
        {
         "order_id": "ccf804e764ed5650cd8759557269dc13",
         "payment_sequential": 3,
         "payment_type": "voucher",
         "payment_installments": 1,
         "payment_value": 1.15,
         "_deepnote_index_column": 40387
        },
        {
         "order_id": "ccf804e764ed5650cd8759557269dc13",
         "payment_sequential": 4,
         "payment_type": "voucher",
         "payment_installments": 1,
         "payment_value": 0.99,
         "_deepnote_index_column": 95153
        },
        {
         "order_id": "ccf804e764ed5650cd8759557269dc13",
         "payment_sequential": 5,
         "payment_type": "voucher",
         "payment_installments": 1,
         "payment_value": 2.69,
         "_deepnote_index_column": 40369
        },
        {
         "order_id": "ccf804e764ed5650cd8759557269dc13",
         "payment_sequential": 6,
         "payment_type": "voucher",
         "payment_installments": 1,
         "payment_value": 2.26,
         "_deepnote_index_column": 21447
        },
        {
         "order_id": "ccf804e764ed5650cd8759557269dc13",
         "payment_sequential": 7,
         "payment_type": "voucher",
         "payment_installments": 1,
         "payment_value": 1.6,
         "_deepnote_index_column": 41414
        },
        {
         "order_id": "ccf804e764ed5650cd8759557269dc13",
         "payment_sequential": 8,
         "payment_type": "voucher",
         "payment_installments": 1,
         "payment_value": 2.42,
         "_deepnote_index_column": 79324
        },
        {
         "order_id": "ccf804e764ed5650cd8759557269dc13",
         "payment_sequential": 9,
         "payment_type": "voucher",
         "payment_installments": 1,
         "payment_value": 0.97,
         "_deepnote_index_column": 87981
        },
        {
         "order_id": "ccf804e764ed5650cd8759557269dc13",
         "payment_sequential": 10,
         "payment_type": "voucher",
         "payment_installments": 1,
         "payment_value": 1.2,
         "_deepnote_index_column": 71309
        }
       ]
      },
      "text/plain": "                               order_id  payment_sequential payment_type  \\\n14362  ccf804e764ed5650cd8759557269dc13                   1  credit_card   \n38001  ccf804e764ed5650cd8759557269dc13                   2      voucher   \n40387  ccf804e764ed5650cd8759557269dc13                   3      voucher   \n95153  ccf804e764ed5650cd8759557269dc13                   4      voucher   \n40369  ccf804e764ed5650cd8759557269dc13                   5      voucher   \n21447  ccf804e764ed5650cd8759557269dc13                   6      voucher   \n41414  ccf804e764ed5650cd8759557269dc13                   7      voucher   \n79324  ccf804e764ed5650cd8759557269dc13                   8      voucher   \n87981  ccf804e764ed5650cd8759557269dc13                   9      voucher   \n71309  ccf804e764ed5650cd8759557269dc13                  10      voucher   \n45857  ccf804e764ed5650cd8759557269dc13                  11      voucher   \n91510  ccf804e764ed5650cd8759557269dc13                  12      voucher   \n49137  ccf804e764ed5650cd8759557269dc13                  13      voucher   \n16279  ccf804e764ed5650cd8759557269dc13                  14      voucher   \n18876  ccf804e764ed5650cd8759557269dc13                  15      voucher   \n94873  ccf804e764ed5650cd8759557269dc13                  16      voucher   \n96566  ccf804e764ed5650cd8759557269dc13                  17      voucher   \n88364  ccf804e764ed5650cd8759557269dc13                  18      voucher   \n4346   ccf804e764ed5650cd8759557269dc13                  19      voucher   \n76655  ccf804e764ed5650cd8759557269dc13                  20      voucher   \n93531  ccf804e764ed5650cd8759557269dc13                  21      voucher   \n53622  ccf804e764ed5650cd8759557269dc13                  22      voucher   \n60241  ccf804e764ed5650cd8759557269dc13                  23      voucher   \n51816  ccf804e764ed5650cd8759557269dc13                  24      voucher   \n39132  ccf804e764ed5650cd8759557269dc13                  25      voucher   \n32393  ccf804e764ed5650cd8759557269dc13                  26      voucher   \n\n       payment_installments  payment_value  \n14362                     1           2.20  \n38001                     1           1.45  \n40387                     1           1.15  \n95153                     1           0.99  \n40369                     1           2.69  \n21447                     1           2.26  \n41414                     1           1.60  \n79324                     1           2.42  \n87981                     1           0.97  \n71309                     1           1.20  \n45857                     1           2.97  \n91510                     1           2.45  \n49137                     1           1.04  \n16279                     1           0.97  \n18876                     1           1.11  \n94873                     1           1.07  \n96566                     1           1.11  \n88364                     1           1.40  \n4346                      1           1.68  \n76655                     1           0.99  \n93531                     1           1.45  \n53622                     1           1.06  \n60241                     1           1.03  \n51816                     1           2.79  \n39132                     1           1.53  \n32393                     1          23.10  ",
      "text/html": "<div>\n<style scoped>\n    .dataframe tbody tr th:only-of-type {\n        vertical-align: middle;\n    }\n\n    .dataframe tbody tr th {\n        vertical-align: top;\n    }\n\n    .dataframe thead th {\n        text-align: right;\n    }\n</style>\n<table border=\"1\" class=\"dataframe\">\n  <thead>\n    <tr style=\"text-align: right;\">\n      <th></th>\n      <th>order_id</th>\n      <th>payment_sequential</th>\n      <th>payment_type</th>\n      <th>payment_installments</th>\n      <th>payment_value</th>\n    </tr>\n  </thead>\n  <tbody>\n    <tr>\n      <th>14362</th>\n      <td>ccf804e764ed5650cd8759557269dc13</td>\n      <td>1</td>\n      <td>credit_card</td>\n      <td>1</td>\n      <td>2.20</td>\n    </tr>\n    <tr>\n      <th>38001</th>\n      <td>ccf804e764ed5650cd8759557269dc13</td>\n      <td>2</td>\n      <td>voucher</td>\n      <td>1</td>\n      <td>1.45</td>\n    </tr>\n    <tr>\n      <th>40387</th>\n      <td>ccf804e764ed5650cd8759557269dc13</td>\n      <td>3</td>\n      <td>voucher</td>\n      <td>1</td>\n      <td>1.15</td>\n    </tr>\n    <tr>\n      <th>95153</th>\n      <td>ccf804e764ed5650cd8759557269dc13</td>\n      <td>4</td>\n      <td>voucher</td>\n      <td>1</td>\n      <td>0.99</td>\n    </tr>\n    <tr>\n      <th>40369</th>\n      <td>ccf804e764ed5650cd8759557269dc13</td>\n      <td>5</td>\n      <td>voucher</td>\n      <td>1</td>\n      <td>2.69</td>\n    </tr>\n    <tr>\n      <th>21447</th>\n      <td>ccf804e764ed5650cd8759557269dc13</td>\n      <td>6</td>\n      <td>voucher</td>\n      <td>1</td>\n      <td>2.26</td>\n    </tr>\n    <tr>\n      <th>41414</th>\n      <td>ccf804e764ed5650cd8759557269dc13</td>\n      <td>7</td>\n      <td>voucher</td>\n      <td>1</td>\n      <td>1.60</td>\n    </tr>\n    <tr>\n      <th>79324</th>\n      <td>ccf804e764ed5650cd8759557269dc13</td>\n      <td>8</td>\n      <td>voucher</td>\n      <td>1</td>\n      <td>2.42</td>\n    </tr>\n    <tr>\n      <th>87981</th>\n      <td>ccf804e764ed5650cd8759557269dc13</td>\n      <td>9</td>\n      <td>voucher</td>\n      <td>1</td>\n      <td>0.97</td>\n    </tr>\n    <tr>\n      <th>71309</th>\n      <td>ccf804e764ed5650cd8759557269dc13</td>\n      <td>10</td>\n      <td>voucher</td>\n      <td>1</td>\n      <td>1.20</td>\n    </tr>\n    <tr>\n      <th>45857</th>\n      <td>ccf804e764ed5650cd8759557269dc13</td>\n      <td>11</td>\n      <td>voucher</td>\n      <td>1</td>\n      <td>2.97</td>\n    </tr>\n    <tr>\n      <th>91510</th>\n      <td>ccf804e764ed5650cd8759557269dc13</td>\n      <td>12</td>\n      <td>voucher</td>\n      <td>1</td>\n      <td>2.45</td>\n    </tr>\n    <tr>\n      <th>49137</th>\n      <td>ccf804e764ed5650cd8759557269dc13</td>\n      <td>13</td>\n      <td>voucher</td>\n      <td>1</td>\n      <td>1.04</td>\n    </tr>\n    <tr>\n      <th>16279</th>\n      <td>ccf804e764ed5650cd8759557269dc13</td>\n      <td>14</td>\n      <td>voucher</td>\n      <td>1</td>\n      <td>0.97</td>\n    </tr>\n    <tr>\n      <th>18876</th>\n      <td>ccf804e764ed5650cd8759557269dc13</td>\n      <td>15</td>\n      <td>voucher</td>\n      <td>1</td>\n      <td>1.11</td>\n    </tr>\n    <tr>\n      <th>94873</th>\n      <td>ccf804e764ed5650cd8759557269dc13</td>\n      <td>16</td>\n      <td>voucher</td>\n      <td>1</td>\n      <td>1.07</td>\n    </tr>\n    <tr>\n      <th>96566</th>\n      <td>ccf804e764ed5650cd8759557269dc13</td>\n      <td>17</td>\n      <td>voucher</td>\n      <td>1</td>\n      <td>1.11</td>\n    </tr>\n    <tr>\n      <th>88364</th>\n      <td>ccf804e764ed5650cd8759557269dc13</td>\n      <td>18</td>\n      <td>voucher</td>\n      <td>1</td>\n      <td>1.40</td>\n    </tr>\n    <tr>\n      <th>4346</th>\n      <td>ccf804e764ed5650cd8759557269dc13</td>\n      <td>19</td>\n      <td>voucher</td>\n      <td>1</td>\n      <td>1.68</td>\n    </tr>\n    <tr>\n      <th>76655</th>\n      <td>ccf804e764ed5650cd8759557269dc13</td>\n      <td>20</td>\n      <td>voucher</td>\n      <td>1</td>\n      <td>0.99</td>\n    </tr>\n    <tr>\n      <th>93531</th>\n      <td>ccf804e764ed5650cd8759557269dc13</td>\n      <td>21</td>\n      <td>voucher</td>\n      <td>1</td>\n      <td>1.45</td>\n    </tr>\n    <tr>\n      <th>53622</th>\n      <td>ccf804e764ed5650cd8759557269dc13</td>\n      <td>22</td>\n      <td>voucher</td>\n      <td>1</td>\n      <td>1.06</td>\n    </tr>\n    <tr>\n      <th>60241</th>\n      <td>ccf804e764ed5650cd8759557269dc13</td>\n      <td>23</td>\n      <td>voucher</td>\n      <td>1</td>\n      <td>1.03</td>\n    </tr>\n    <tr>\n      <th>51816</th>\n      <td>ccf804e764ed5650cd8759557269dc13</td>\n      <td>24</td>\n      <td>voucher</td>\n      <td>1</td>\n      <td>2.79</td>\n    </tr>\n    <tr>\n      <th>39132</th>\n      <td>ccf804e764ed5650cd8759557269dc13</td>\n      <td>25</td>\n      <td>voucher</td>\n      <td>1</td>\n      <td>1.53</td>\n    </tr>\n    <tr>\n      <th>32393</th>\n      <td>ccf804e764ed5650cd8759557269dc13</td>\n      <td>26</td>\n      <td>voucher</td>\n      <td>1</td>\n      <td>23.10</td>\n    </tr>\n  </tbody>\n</table>\n</div>"
     },
     "metadata": {}
    }
   ],
   "execution_count": null
  },
  {
   "cell_type": "code",
   "metadata": {
    "tags": [],
    "deepnote_to_be_reexecuted": false,
    "source_hash": "ca1b151e",
    "deepnote_table_state": {
     "pageSize": 10,
     "pageIndex": 0,
     "filters": [],
     "sortBy": []
    },
    "deepnote_table_loading": false,
    "cell_id": "a0269d6becad4ffd8a6d4efffa4eb33a",
    "deepnote_table_invalid": false,
    "allow_embed": false,
    "execution_start": 1649122932255,
    "execution_millis": 168,
    "deepnote_cell_type": "code",
    "deepnote_cell_height": 328.921875
   },
   "source": "#Caso de ordenes a 1 cuota sin método de pago y sin valor\ndf[df['payment_type'] == 'not_defined'].sort_values('payment_sequential', ascending=1)",
   "outputs": [
    {
     "output_type": "execute_result",
     "execution_count": 5,
     "data": {
      "application/vnd.deepnote.dataframe.v3+json": {
       "column_count": 5,
       "row_count": 3,
       "columns": [
        {
         "name": "order_id",
         "dtype": "object",
         "stats": {
          "unique_count": 3,
          "nan_count": 0,
          "categories": [
           {
            "name": "4637ca194b6387e2d538dc89b124b0ee",
            "count": 1
           },
           {
            "name": "00b1cb0320190ca0daa2c88b35206009",
            "count": 1
           },
           {
            "name": "c8c528189310eaa44a745b8d9d26908b",
            "count": 1
           }
          ]
         }
        },
        {
         "name": "payment_sequential",
         "dtype": "int64",
         "stats": {
          "unique_count": 1,
          "nan_count": 0,
          "min": "1",
          "max": "1",
          "histogram": [
           {
            "bin_start": 0.5,
            "bin_end": 0.6,
            "count": 0
           },
           {
            "bin_start": 0.6,
            "bin_end": 0.7,
            "count": 0
           },
           {
            "bin_start": 0.7,
            "bin_end": 0.8,
            "count": 0
           },
           {
            "bin_start": 0.8,
            "bin_end": 0.9,
            "count": 0
           },
           {
            "bin_start": 0.9,
            "bin_end": 1,
            "count": 0
           },
           {
            "bin_start": 1,
            "bin_end": 1.1,
            "count": 3
           },
           {
            "bin_start": 1.1,
            "bin_end": 1.2000000000000002,
            "count": 0
           },
           {
            "bin_start": 1.2000000000000002,
            "bin_end": 1.3,
            "count": 0
           },
           {
            "bin_start": 1.3,
            "bin_end": 1.4,
            "count": 0
           },
           {
            "bin_start": 1.4,
            "bin_end": 1.5,
            "count": 0
           }
          ]
         }
        },
        {
         "name": "payment_type",
         "dtype": "object",
         "stats": {
          "unique_count": 1,
          "nan_count": 0,
          "categories": [
           {
            "name": "not_defined",
            "count": 3
           }
          ]
         }
        },
        {
         "name": "payment_installments",
         "dtype": "int64",
         "stats": {
          "unique_count": 1,
          "nan_count": 0,
          "min": "1",
          "max": "1",
          "histogram": [
           {
            "bin_start": 0.5,
            "bin_end": 0.6,
            "count": 0
           },
           {
            "bin_start": 0.6,
            "bin_end": 0.7,
            "count": 0
           },
           {
            "bin_start": 0.7,
            "bin_end": 0.8,
            "count": 0
           },
           {
            "bin_start": 0.8,
            "bin_end": 0.9,
            "count": 0
           },
           {
            "bin_start": 0.9,
            "bin_end": 1,
            "count": 0
           },
           {
            "bin_start": 1,
            "bin_end": 1.1,
            "count": 3
           },
           {
            "bin_start": 1.1,
            "bin_end": 1.2000000000000002,
            "count": 0
           },
           {
            "bin_start": 1.2000000000000002,
            "bin_end": 1.3,
            "count": 0
           },
           {
            "bin_start": 1.3,
            "bin_end": 1.4,
            "count": 0
           },
           {
            "bin_start": 1.4,
            "bin_end": 1.5,
            "count": 0
           }
          ]
         }
        },
        {
         "name": "payment_value",
         "dtype": "float64",
         "stats": {
          "unique_count": 1,
          "nan_count": 0,
          "min": "0.0",
          "max": "0.0",
          "histogram": [
           {
            "bin_start": -0.5,
            "bin_end": -0.4,
            "count": 0
           },
           {
            "bin_start": -0.4,
            "bin_end": -0.3,
            "count": 0
           },
           {
            "bin_start": -0.3,
            "bin_end": -0.19999999999999996,
            "count": 0
           },
           {
            "bin_start": -0.19999999999999996,
            "bin_end": -0.09999999999999998,
            "count": 0
           },
           {
            "bin_start": -0.09999999999999998,
            "bin_end": 0,
            "count": 0
           },
           {
            "bin_start": 0,
            "bin_end": 0.10000000000000009,
            "count": 3
           },
           {
            "bin_start": 0.10000000000000009,
            "bin_end": 0.20000000000000007,
            "count": 0
           },
           {
            "bin_start": 0.20000000000000007,
            "bin_end": 0.30000000000000004,
            "count": 0
           },
           {
            "bin_start": 0.30000000000000004,
            "bin_end": 0.4,
            "count": 0
           },
           {
            "bin_start": 0.4,
            "bin_end": 0.5,
            "count": 0
           }
          ]
         }
        },
        {
         "name": "_deepnote_index_column",
         "dtype": "int64"
        }
       ],
       "rows": [
        {
         "order_id": "4637ca194b6387e2d538dc89b124b0ee",
         "payment_sequential": 1,
         "payment_type": "not_defined",
         "payment_installments": 1,
         "payment_value": 0,
         "_deepnote_index_column": 51280
        },
        {
         "order_id": "00b1cb0320190ca0daa2c88b35206009",
         "payment_sequential": 1,
         "payment_type": "not_defined",
         "payment_installments": 1,
         "payment_value": 0,
         "_deepnote_index_column": 57411
        },
        {
         "order_id": "c8c528189310eaa44a745b8d9d26908b",
         "payment_sequential": 1,
         "payment_type": "not_defined",
         "payment_installments": 1,
         "payment_value": 0,
         "_deepnote_index_column": 94427
        }
       ]
      },
      "text/plain": "                               order_id  payment_sequential payment_type  \\\n51280  4637ca194b6387e2d538dc89b124b0ee                   1  not_defined   \n57411  00b1cb0320190ca0daa2c88b35206009                   1  not_defined   \n94427  c8c528189310eaa44a745b8d9d26908b                   1  not_defined   \n\n       payment_installments  payment_value  \n51280                     1            0.0  \n57411                     1            0.0  \n94427                     1            0.0  ",
      "text/html": "<div>\n<style scoped>\n    .dataframe tbody tr th:only-of-type {\n        vertical-align: middle;\n    }\n\n    .dataframe tbody tr th {\n        vertical-align: top;\n    }\n\n    .dataframe thead th {\n        text-align: right;\n    }\n</style>\n<table border=\"1\" class=\"dataframe\">\n  <thead>\n    <tr style=\"text-align: right;\">\n      <th></th>\n      <th>order_id</th>\n      <th>payment_sequential</th>\n      <th>payment_type</th>\n      <th>payment_installments</th>\n      <th>payment_value</th>\n    </tr>\n  </thead>\n  <tbody>\n    <tr>\n      <th>51280</th>\n      <td>4637ca194b6387e2d538dc89b124b0ee</td>\n      <td>1</td>\n      <td>not_defined</td>\n      <td>1</td>\n      <td>0.0</td>\n    </tr>\n    <tr>\n      <th>57411</th>\n      <td>00b1cb0320190ca0daa2c88b35206009</td>\n      <td>1</td>\n      <td>not_defined</td>\n      <td>1</td>\n      <td>0.0</td>\n    </tr>\n    <tr>\n      <th>94427</th>\n      <td>c8c528189310eaa44a745b8d9d26908b</td>\n      <td>1</td>\n      <td>not_defined</td>\n      <td>1</td>\n      <td>0.0</td>\n    </tr>\n  </tbody>\n</table>\n</div>"
     },
     "metadata": {}
    }
   ],
   "execution_count": null
  },
  {
   "cell_type": "code",
   "metadata": {
    "tags": [],
    "deepnote_to_be_reexecuted": false,
    "source_hash": "3d11004a",
    "deepnote_table_state": {
     "pageSize": 10,
     "pageIndex": 0,
     "filters": [],
     "sortBy": []
    },
    "deepnote_table_loading": false,
    "cell_id": "87e9c61049eb4cecbf01bfb08b019e88",
    "deepnote_table_invalid": false,
    "allow_embed": false,
    "execution_start": 1649122932257,
    "execution_millis": 167,
    "deepnote_cell_type": "code",
    "deepnote_cell_height": 287.921875
   },
   "source": "#Caso de ordenes donde el número de la cuota es la cuota 0\ndf[df['payment_installments'] == 0].sort_values('payment_sequential', ascending=1)",
   "outputs": [
    {
     "output_type": "execute_result",
     "execution_count": 6,
     "data": {
      "application/vnd.deepnote.dataframe.v3+json": {
       "column_count": 5,
       "row_count": 2,
       "columns": [
        {
         "name": "order_id",
         "dtype": "object",
         "stats": {
          "unique_count": 2,
          "nan_count": 0,
          "categories": [
           {
            "name": "744bade1fcf9ff3f31d860ace076d422",
            "count": 1
           },
           {
            "name": "1a57108394169c0b47d8f876acc9ba2d",
            "count": 1
           }
          ]
         }
        },
        {
         "name": "payment_sequential",
         "dtype": "int64",
         "stats": {
          "unique_count": 1,
          "nan_count": 0,
          "min": "2",
          "max": "2",
          "histogram": [
           {
            "bin_start": 1.5,
            "bin_end": 1.6,
            "count": 0
           },
           {
            "bin_start": 1.6,
            "bin_end": 1.7,
            "count": 0
           },
           {
            "bin_start": 1.7,
            "bin_end": 1.8,
            "count": 0
           },
           {
            "bin_start": 1.8,
            "bin_end": 1.9,
            "count": 0
           },
           {
            "bin_start": 1.9,
            "bin_end": 2,
            "count": 0
           },
           {
            "bin_start": 2,
            "bin_end": 2.1,
            "count": 2
           },
           {
            "bin_start": 2.1,
            "bin_end": 2.2,
            "count": 0
           },
           {
            "bin_start": 2.2,
            "bin_end": 2.3,
            "count": 0
           },
           {
            "bin_start": 2.3,
            "bin_end": 2.4,
            "count": 0
           },
           {
            "bin_start": 2.4,
            "bin_end": 2.5,
            "count": 0
           }
          ]
         }
        },
        {
         "name": "payment_type",
         "dtype": "object",
         "stats": {
          "unique_count": 1,
          "nan_count": 0,
          "categories": [
           {
            "name": "credit_card",
            "count": 2
           }
          ]
         }
        },
        {
         "name": "payment_installments",
         "dtype": "int64",
         "stats": {
          "unique_count": 1,
          "nan_count": 0,
          "min": "0",
          "max": "0",
          "histogram": [
           {
            "bin_start": -0.5,
            "bin_end": -0.4,
            "count": 0
           },
           {
            "bin_start": -0.4,
            "bin_end": -0.3,
            "count": 0
           },
           {
            "bin_start": -0.3,
            "bin_end": -0.19999999999999996,
            "count": 0
           },
           {
            "bin_start": -0.19999999999999996,
            "bin_end": -0.09999999999999998,
            "count": 0
           },
           {
            "bin_start": -0.09999999999999998,
            "bin_end": 0,
            "count": 0
           },
           {
            "bin_start": 0,
            "bin_end": 0.10000000000000009,
            "count": 2
           },
           {
            "bin_start": 0.10000000000000009,
            "bin_end": 0.20000000000000007,
            "count": 0
           },
           {
            "bin_start": 0.20000000000000007,
            "bin_end": 0.30000000000000004,
            "count": 0
           },
           {
            "bin_start": 0.30000000000000004,
            "bin_end": 0.4,
            "count": 0
           },
           {
            "bin_start": 0.4,
            "bin_end": 0.5,
            "count": 0
           }
          ]
         }
        },
        {
         "name": "payment_value",
         "dtype": "float64",
         "stats": {
          "unique_count": 2,
          "nan_count": 0,
          "min": "58.69",
          "max": "129.94",
          "histogram": [
           {
            "bin_start": 58.69,
            "bin_end": 65.815,
            "count": 1
           },
           {
            "bin_start": 65.815,
            "bin_end": 72.94,
            "count": 0
           },
           {
            "bin_start": 72.94,
            "bin_end": 80.065,
            "count": 0
           },
           {
            "bin_start": 80.065,
            "bin_end": 87.19,
            "count": 0
           },
           {
            "bin_start": 87.19,
            "bin_end": 94.315,
            "count": 0
           },
           {
            "bin_start": 94.315,
            "bin_end": 101.44,
            "count": 0
           },
           {
            "bin_start": 101.44,
            "bin_end": 108.565,
            "count": 0
           },
           {
            "bin_start": 108.565,
            "bin_end": 115.69,
            "count": 0
           },
           {
            "bin_start": 115.69,
            "bin_end": 122.815,
            "count": 0
           },
           {
            "bin_start": 122.815,
            "bin_end": 129.94,
            "count": 1
           }
          ]
         }
        },
        {
         "name": "_deepnote_index_column",
         "dtype": "int64"
        }
       ],
       "rows": [
        {
         "order_id": "744bade1fcf9ff3f31d860ace076d422",
         "payment_sequential": 2,
         "payment_type": "credit_card",
         "payment_installments": 0,
         "payment_value": 58.69,
         "_deepnote_index_column": 46982
        },
        {
         "order_id": "1a57108394169c0b47d8f876acc9ba2d",
         "payment_sequential": 2,
         "payment_type": "credit_card",
         "payment_installments": 0,
         "payment_value": 129.94,
         "_deepnote_index_column": 79014
        }
       ]
      },
      "text/plain": "                               order_id  payment_sequential payment_type  \\\n46982  744bade1fcf9ff3f31d860ace076d422                   2  credit_card   \n79014  1a57108394169c0b47d8f876acc9ba2d                   2  credit_card   \n\n       payment_installments  payment_value  \n46982                     0          58.69  \n79014                     0         129.94  ",
      "text/html": "<div>\n<style scoped>\n    .dataframe tbody tr th:only-of-type {\n        vertical-align: middle;\n    }\n\n    .dataframe tbody tr th {\n        vertical-align: top;\n    }\n\n    .dataframe thead th {\n        text-align: right;\n    }\n</style>\n<table border=\"1\" class=\"dataframe\">\n  <thead>\n    <tr style=\"text-align: right;\">\n      <th></th>\n      <th>order_id</th>\n      <th>payment_sequential</th>\n      <th>payment_type</th>\n      <th>payment_installments</th>\n      <th>payment_value</th>\n    </tr>\n  </thead>\n  <tbody>\n    <tr>\n      <th>46982</th>\n      <td>744bade1fcf9ff3f31d860ace076d422</td>\n      <td>2</td>\n      <td>credit_card</td>\n      <td>0</td>\n      <td>58.69</td>\n    </tr>\n    <tr>\n      <th>79014</th>\n      <td>1a57108394169c0b47d8f876acc9ba2d</td>\n      <td>2</td>\n      <td>credit_card</td>\n      <td>0</td>\n      <td>129.94</td>\n    </tr>\n  </tbody>\n</table>\n</div>"
     },
     "metadata": {}
    }
   ],
   "execution_count": null
  },
  {
   "cell_type": "code",
   "metadata": {
    "tags": [],
    "deepnote_to_be_reexecuted": false,
    "source_hash": "b13eafc6",
    "deepnote_table_state": {
     "pageSize": 10,
     "pageIndex": 0,
     "filters": [],
     "sortBy": [
      {
       "id": "payment_sequential",
       "type": "desc"
      }
     ]
    },
    "deepnote_table_loading": false,
    "cell_id": "0b3299f4f2c8490187faadbf2784590a",
    "deepnote_table_invalid": false,
    "allow_embed": false,
    "execution_start": 1649122932300,
    "execution_millis": 126,
    "deepnote_cell_type": "code",
    "deepnote_cell_height": 647.890625
   },
   "source": "#Caso de ordenes donde se pagan 10 cuotas en una transacción\ndf[df['payment_installments'] == 10].sort_values('payment_sequential', ascending=1)",
   "outputs": [
    {
     "output_type": "execute_result",
     "execution_count": 7,
     "data": {
      "application/vnd.deepnote.dataframe.v3+json": {
       "column_count": 5,
       "row_count": 5328,
       "columns": [
        {
         "name": "order_id",
         "dtype": "object",
         "stats": {
          "unique_count": 5315,
          "nan_count": 0,
          "categories": [
           {
            "name": "186efcd656d8ac4332156f594df02572",
            "count": 2
           },
           {
            "name": "188f31b5ce7e58114dc03f7d6289f9a4",
            "count": 2
           },
           {
            "name": "5313 others",
            "count": 5324
           }
          ]
         }
        },
        {
         "name": "payment_sequential",
         "dtype": "int64",
         "stats": {
          "unique_count": 2,
          "nan_count": 0,
          "min": "1",
          "max": "2",
          "histogram": [
           {
            "bin_start": 1,
            "bin_end": 1.1,
            "count": 5305
           },
           {
            "bin_start": 1.1,
            "bin_end": 1.2,
            "count": 0
           },
           {
            "bin_start": 1.2,
            "bin_end": 1.3,
            "count": 0
           },
           {
            "bin_start": 1.3,
            "bin_end": 1.4,
            "count": 0
           },
           {
            "bin_start": 1.4,
            "bin_end": 1.5,
            "count": 0
           },
           {
            "bin_start": 1.5,
            "bin_end": 1.6,
            "count": 0
           },
           {
            "bin_start": 1.6,
            "bin_end": 1.7000000000000002,
            "count": 0
           },
           {
            "bin_start": 1.7000000000000002,
            "bin_end": 1.8,
            "count": 0
           },
           {
            "bin_start": 1.8,
            "bin_end": 1.9,
            "count": 0
           },
           {
            "bin_start": 1.9,
            "bin_end": 2,
            "count": 23
           }
          ]
         }
        },
        {
         "name": "payment_type",
         "dtype": "object",
         "stats": {
          "unique_count": 1,
          "nan_count": 0,
          "categories": [
           {
            "name": "credit_card",
            "count": 5328
           }
          ]
         }
        },
        {
         "name": "payment_installments",
         "dtype": "int64",
         "stats": {
          "unique_count": 1,
          "nan_count": 0,
          "min": "10",
          "max": "10",
          "histogram": [
           {
            "bin_start": 9.5,
            "bin_end": 9.6,
            "count": 0
           },
           {
            "bin_start": 9.6,
            "bin_end": 9.7,
            "count": 0
           },
           {
            "bin_start": 9.7,
            "bin_end": 9.8,
            "count": 0
           },
           {
            "bin_start": 9.8,
            "bin_end": 9.9,
            "count": 0
           },
           {
            "bin_start": 9.9,
            "bin_end": 10,
            "count": 0
           },
           {
            "bin_start": 10,
            "bin_end": 10.1,
            "count": 5328
           },
           {
            "bin_start": 10.1,
            "bin_end": 10.2,
            "count": 0
           },
           {
            "bin_start": 10.2,
            "bin_end": 10.3,
            "count": 0
           },
           {
            "bin_start": 10.3,
            "bin_end": 10.4,
            "count": 0
           },
           {
            "bin_start": 10.4,
            "bin_end": 10.5,
            "count": 0
           }
          ]
         }
        },
        {
         "name": "payment_value",
         "dtype": "float64",
         "stats": {
          "unique_count": 4535,
          "nan_count": 0,
          "min": "37.67",
          "max": "4950.34",
          "histogram": [
           {
            "bin_start": 37.67,
            "bin_end": 528.937,
            "count": 4099
           },
           {
            "bin_start": 528.937,
            "bin_end": 1020.204,
            "count": 798
           },
           {
            "bin_start": 1020.204,
            "bin_end": 1511.471,
            "count": 231
           },
           {
            "bin_start": 1511.471,
            "bin_end": 2002.738,
            "count": 101
           },
           {
            "bin_start": 2002.738,
            "bin_end": 2494.005,
            "count": 62
           },
           {
            "bin_start": 2494.005,
            "bin_end": 2985.272,
            "count": 18
           },
           {
            "bin_start": 2985.272,
            "bin_end": 3476.539,
            "count": 12
           },
           {
            "bin_start": 3476.539,
            "bin_end": 3967.806,
            "count": 4
           },
           {
            "bin_start": 3967.806,
            "bin_end": 4459.073,
            "count": 1
           },
           {
            "bin_start": 4459.073,
            "bin_end": 4950.34,
            "count": 2
           }
          ]
         }
        },
        {
         "name": "_deepnote_index_column",
         "dtype": "int64"
        }
       ],
       "rows": [
        {
         "order_id": "615915458e5cdf8939ae422e043ca879",
         "payment_sequential": 2,
         "payment_type": "credit_card",
         "payment_installments": 10,
         "payment_value": 112.68,
         "_deepnote_index_column": 5826
        },
        {
         "order_id": "08eb6a0ddc93b1cf16dd629389dc691b",
         "payment_sequential": 2,
         "payment_type": "credit_card",
         "payment_installments": 10,
         "payment_value": 116.49,
         "_deepnote_index_column": 88536
        },
        {
         "order_id": "186efcd656d8ac4332156f594df02572",
         "payment_sequential": 2,
         "payment_type": "credit_card",
         "payment_installments": 10,
         "payment_value": 486.27,
         "_deepnote_index_column": 71297
        },
        {
         "order_id": "8563f78b69f236731470e13b90fde454",
         "payment_sequential": 2,
         "payment_type": "credit_card",
         "payment_installments": 10,
         "payment_value": 195.17,
         "_deepnote_index_column": 57976
        },
        {
         "order_id": "254ef6ca0da659f3476797affc235f8b",
         "payment_sequential": 2,
         "payment_type": "credit_card",
         "payment_installments": 10,
         "payment_value": 37.67,
         "_deepnote_index_column": 78907
        },
        {
         "order_id": "7f73071c538cbb2b10e41a3041db481d",
         "payment_sequential": 2,
         "payment_type": "credit_card",
         "payment_installments": 10,
         "payment_value": 126.34,
         "_deepnote_index_column": 41798
        },
        {
         "order_id": "188f31b5ce7e58114dc03f7d6289f9a4",
         "payment_sequential": 2,
         "payment_type": "credit_card",
         "payment_installments": 10,
         "payment_value": 1032.11,
         "_deepnote_index_column": 57549
        },
        {
         "order_id": "cc78407c0a27d3450010482ad091d498",
         "payment_sequential": 2,
         "payment_type": "credit_card",
         "payment_installments": 10,
         "payment_value": 224.71,
         "_deepnote_index_column": 82131
        },
        {
         "order_id": "70d8acc0832b3dd2048b71a6fe492257",
         "payment_sequential": 2,
         "payment_type": "credit_card",
         "payment_installments": 10,
         "payment_value": 513.13,
         "_deepnote_index_column": 100350
        },
        {
         "order_id": "cfa1591318ed6c901b0c80debfd4b811",
         "payment_sequential": 2,
         "payment_type": "credit_card",
         "payment_installments": 10,
         "payment_value": 330.11,
         "_deepnote_index_column": 3272
        }
       ]
      },
      "text/plain": "                               order_id  payment_sequential payment_type  \\\n15     12e5cfe0e4716b59afb0e0f4a3bd6570                   1  credit_card   \n69555  f2bfe1e2b86b6e22866492f4dbd26ff0                   1  credit_card   \n69549  62faf07dbae1258c108166ee7b2ba6c8                   1  credit_card   \n69538  7ecb6c38b166531663fdecce49dc1a6f                   1  credit_card   \n69518  b13b1011e873341b427bb3acb82f83ac                   1  credit_card   \n...                                 ...                 ...          ...   \n37330  4baefe0b13c215e6417751ad5121469d                   2  credit_card   \n45806  7588fbb6c9001d45b0f2bafb4be7ef56                   2  credit_card   \n19824  125f4dd03bbae6aa696e6196ac423f72                   2  credit_card   \n57630  53be479f3b3486d26abed234b365a359                   2  credit_card   \n5826   615915458e5cdf8939ae422e043ca879                   2  credit_card   \n\n       payment_installments  payment_value  \n15                       10         157.45  \n69555                    10         225.71  \n69549                    10         204.34  \n69538                    10        1528.99  \n69518                    10         129.09  \n...                     ...            ...  \n37330                    10         512.88  \n45806                    10         109.70  \n19824                    10         234.69  \n57630                    10         842.60  \n5826                     10         112.68  \n\n[5328 rows x 5 columns]",
      "text/html": "<div>\n<style scoped>\n    .dataframe tbody tr th:only-of-type {\n        vertical-align: middle;\n    }\n\n    .dataframe tbody tr th {\n        vertical-align: top;\n    }\n\n    .dataframe thead th {\n        text-align: right;\n    }\n</style>\n<table border=\"1\" class=\"dataframe\">\n  <thead>\n    <tr style=\"text-align: right;\">\n      <th></th>\n      <th>order_id</th>\n      <th>payment_sequential</th>\n      <th>payment_type</th>\n      <th>payment_installments</th>\n      <th>payment_value</th>\n    </tr>\n  </thead>\n  <tbody>\n    <tr>\n      <th>15</th>\n      <td>12e5cfe0e4716b59afb0e0f4a3bd6570</td>\n      <td>1</td>\n      <td>credit_card</td>\n      <td>10</td>\n      <td>157.45</td>\n    </tr>\n    <tr>\n      <th>69555</th>\n      <td>f2bfe1e2b86b6e22866492f4dbd26ff0</td>\n      <td>1</td>\n      <td>credit_card</td>\n      <td>10</td>\n      <td>225.71</td>\n    </tr>\n    <tr>\n      <th>69549</th>\n      <td>62faf07dbae1258c108166ee7b2ba6c8</td>\n      <td>1</td>\n      <td>credit_card</td>\n      <td>10</td>\n      <td>204.34</td>\n    </tr>\n    <tr>\n      <th>69538</th>\n      <td>7ecb6c38b166531663fdecce49dc1a6f</td>\n      <td>1</td>\n      <td>credit_card</td>\n      <td>10</td>\n      <td>1528.99</td>\n    </tr>\n    <tr>\n      <th>69518</th>\n      <td>b13b1011e873341b427bb3acb82f83ac</td>\n      <td>1</td>\n      <td>credit_card</td>\n      <td>10</td>\n      <td>129.09</td>\n    </tr>\n    <tr>\n      <th>...</th>\n      <td>...</td>\n      <td>...</td>\n      <td>...</td>\n      <td>...</td>\n      <td>...</td>\n    </tr>\n    <tr>\n      <th>37330</th>\n      <td>4baefe0b13c215e6417751ad5121469d</td>\n      <td>2</td>\n      <td>credit_card</td>\n      <td>10</td>\n      <td>512.88</td>\n    </tr>\n    <tr>\n      <th>45806</th>\n      <td>7588fbb6c9001d45b0f2bafb4be7ef56</td>\n      <td>2</td>\n      <td>credit_card</td>\n      <td>10</td>\n      <td>109.70</td>\n    </tr>\n    <tr>\n      <th>19824</th>\n      <td>125f4dd03bbae6aa696e6196ac423f72</td>\n      <td>2</td>\n      <td>credit_card</td>\n      <td>10</td>\n      <td>234.69</td>\n    </tr>\n    <tr>\n      <th>57630</th>\n      <td>53be479f3b3486d26abed234b365a359</td>\n      <td>2</td>\n      <td>credit_card</td>\n      <td>10</td>\n      <td>842.60</td>\n    </tr>\n    <tr>\n      <th>5826</th>\n      <td>615915458e5cdf8939ae422e043ca879</td>\n      <td>2</td>\n      <td>credit_card</td>\n      <td>10</td>\n      <td>112.68</td>\n    </tr>\n  </tbody>\n</table>\n<p>5328 rows × 5 columns</p>\n</div>"
     },
     "metadata": {}
    }
   ],
   "execution_count": null
  },
  {
   "cell_type": "code",
   "metadata": {
    "tags": [],
    "deepnote_to_be_reexecuted": false,
    "source_hash": "48263f88",
    "deepnote_table_state": {
     "pageSize": 10,
     "pageIndex": 0,
     "filters": [],
     "sortBy": []
    },
    "deepnote_table_loading": false,
    "cell_id": "3dc64bf891f1478ca12eb2d5a09a8ce3",
    "deepnote_table_invalid": false,
    "allow_embed": false,
    "execution_start": 1649122932388,
    "execution_millis": 42,
    "deepnote_cell_type": "code",
    "deepnote_cell_height": 264.921875
   },
   "source": "#Caso que muestra que la columna payment_sequential no es garante para determinar el número de cuotas, \n#indica 2 cuotas pero en realidad es un solo pago de 10 cuotas\ndf[df['order_id'] == '615915458e5cdf8939ae422e043ca879'].sort_values('payment_sequential', ascending=1)",
   "outputs": [
    {
     "output_type": "execute_result",
     "execution_count": 8,
     "data": {
      "application/vnd.deepnote.dataframe.v3+json": {
       "column_count": 5,
       "row_count": 1,
       "columns": [
        {
         "name": "order_id",
         "dtype": "object",
         "stats": {
          "unique_count": 1,
          "nan_count": 0,
          "categories": [
           {
            "name": "615915458e5cdf8939ae422e043ca879",
            "count": 1
           }
          ]
         }
        },
        {
         "name": "payment_sequential",
         "dtype": "int64",
         "stats": {
          "unique_count": 1,
          "nan_count": 0,
          "min": "2",
          "max": "2",
          "histogram": [
           {
            "bin_start": 1.5,
            "bin_end": 1.6,
            "count": 0
           },
           {
            "bin_start": 1.6,
            "bin_end": 1.7,
            "count": 0
           },
           {
            "bin_start": 1.7,
            "bin_end": 1.8,
            "count": 0
           },
           {
            "bin_start": 1.8,
            "bin_end": 1.9,
            "count": 0
           },
           {
            "bin_start": 1.9,
            "bin_end": 2,
            "count": 0
           },
           {
            "bin_start": 2,
            "bin_end": 2.1,
            "count": 1
           },
           {
            "bin_start": 2.1,
            "bin_end": 2.2,
            "count": 0
           },
           {
            "bin_start": 2.2,
            "bin_end": 2.3,
            "count": 0
           },
           {
            "bin_start": 2.3,
            "bin_end": 2.4,
            "count": 0
           },
           {
            "bin_start": 2.4,
            "bin_end": 2.5,
            "count": 0
           }
          ]
         }
        },
        {
         "name": "payment_type",
         "dtype": "object",
         "stats": {
          "unique_count": 1,
          "nan_count": 0,
          "categories": [
           {
            "name": "credit_card",
            "count": 1
           }
          ]
         }
        },
        {
         "name": "payment_installments",
         "dtype": "int64",
         "stats": {
          "unique_count": 1,
          "nan_count": 0,
          "min": "10",
          "max": "10",
          "histogram": [
           {
            "bin_start": 9.5,
            "bin_end": 9.6,
            "count": 0
           },
           {
            "bin_start": 9.6,
            "bin_end": 9.7,
            "count": 0
           },
           {
            "bin_start": 9.7,
            "bin_end": 9.8,
            "count": 0
           },
           {
            "bin_start": 9.8,
            "bin_end": 9.9,
            "count": 0
           },
           {
            "bin_start": 9.9,
            "bin_end": 10,
            "count": 0
           },
           {
            "bin_start": 10,
            "bin_end": 10.1,
            "count": 1
           },
           {
            "bin_start": 10.1,
            "bin_end": 10.2,
            "count": 0
           },
           {
            "bin_start": 10.2,
            "bin_end": 10.3,
            "count": 0
           },
           {
            "bin_start": 10.3,
            "bin_end": 10.4,
            "count": 0
           },
           {
            "bin_start": 10.4,
            "bin_end": 10.5,
            "count": 0
           }
          ]
         }
        },
        {
         "name": "payment_value",
         "dtype": "float64",
         "stats": {
          "unique_count": 1,
          "nan_count": 0,
          "min": "112.68",
          "max": "112.68",
          "histogram": [
           {
            "bin_start": 112.18,
            "bin_end": 112.28,
            "count": 0
           },
           {
            "bin_start": 112.28,
            "bin_end": 112.38000000000001,
            "count": 0
           },
           {
            "bin_start": 112.38000000000001,
            "bin_end": 112.48,
            "count": 0
           },
           {
            "bin_start": 112.48,
            "bin_end": 112.58000000000001,
            "count": 0
           },
           {
            "bin_start": 112.58000000000001,
            "bin_end": 112.68,
            "count": 0
           },
           {
            "bin_start": 112.68,
            "bin_end": 112.78,
            "count": 1
           },
           {
            "bin_start": 112.78,
            "bin_end": 112.88000000000001,
            "count": 0
           },
           {
            "bin_start": 112.88000000000001,
            "bin_end": 112.98,
            "count": 0
           },
           {
            "bin_start": 112.98,
            "bin_end": 113.08000000000001,
            "count": 0
           },
           {
            "bin_start": 113.08000000000001,
            "bin_end": 113.18,
            "count": 0
           }
          ]
         }
        },
        {
         "name": "_deepnote_index_column",
         "dtype": "int64"
        }
       ],
       "rows": [
        {
         "order_id": "615915458e5cdf8939ae422e043ca879",
         "payment_sequential": 2,
         "payment_type": "credit_card",
         "payment_installments": 10,
         "payment_value": 112.68,
         "_deepnote_index_column": 5826
        }
       ]
      },
      "text/plain": "                              order_id  payment_sequential payment_type  \\\n5826  615915458e5cdf8939ae422e043ca879                   2  credit_card   \n\n      payment_installments  payment_value  \n5826                    10         112.68  ",
      "text/html": "<div>\n<style scoped>\n    .dataframe tbody tr th:only-of-type {\n        vertical-align: middle;\n    }\n\n    .dataframe tbody tr th {\n        vertical-align: top;\n    }\n\n    .dataframe thead th {\n        text-align: right;\n    }\n</style>\n<table border=\"1\" class=\"dataframe\">\n  <thead>\n    <tr style=\"text-align: right;\">\n      <th></th>\n      <th>order_id</th>\n      <th>payment_sequential</th>\n      <th>payment_type</th>\n      <th>payment_installments</th>\n      <th>payment_value</th>\n    </tr>\n  </thead>\n  <tbody>\n    <tr>\n      <th>5826</th>\n      <td>615915458e5cdf8939ae422e043ca879</td>\n      <td>2</td>\n      <td>credit_card</td>\n      <td>10</td>\n      <td>112.68</td>\n    </tr>\n  </tbody>\n</table>\n</div>"
     },
     "metadata": {}
    }
   ],
   "execution_count": null
  },
  {
   "cell_type": "code",
   "metadata": {
    "deepnote_to_be_reexecuted": false,
    "source_hash": "5e1171d1",
    "execution_start": 1649122932390,
    "execution_millis": 48,
    "cell_id": "00008-3106c1d1-34dc-4dd3-b7c6-ae774360a2ab",
    "deepnote_cell_type": "code",
    "deepnote_cell_height": 130.078125
   },
   "source": "#Verifico la cantidad de filas y columnas\nprint(df.shape)",
   "outputs": [
    {
     "name": "stdout",
     "text": "(103886, 5)\n",
     "output_type": "stream"
    }
   ],
   "execution_count": null
  },
  {
   "cell_type": "code",
   "metadata": {
    "deepnote_to_be_reexecuted": false,
    "source_hash": "9f748981",
    "execution_start": 1649122932456,
    "execution_millis": 46,
    "cell_id": "00020-87dca55a-59b4-4fab-94da-ceb3fc8a0c3a",
    "deepnote_table_state": {
     "pageSize": 10,
     "pageIndex": 291,
     "filters": [],
     "sortBy": []
    },
    "deepnote_table_loading": false,
    "deepnote_cell_type": "code",
    "deepnote_cell_height": 651.890625
   },
   "source": "#Todos los registros que se pagaron de 2 cuotas en adelante\nidsRepetidos = df['order_id'].value_counts().to_frame()\nidsRepetidos[idsRepetidos['order_id'] > 1].sort_values('order_id', ascending=0)\n",
   "outputs": [
    {
     "output_type": "execute_result",
     "execution_count": 10,
     "data": {
      "application/vnd.deepnote.dataframe.v3+json": {
       "column_count": 1,
       "row_count": 2961,
       "columns": [
        {
         "name": "order_id",
         "dtype": "int64",
         "stats": {
          "unique_count": 19,
          "nan_count": 0,
          "min": "2",
          "max": "29",
          "histogram": [
           {
            "bin_start": 2,
            "bin_end": 4.7,
            "count": 2791
           },
           {
            "bin_start": 4.7,
            "bin_end": 7.4,
            "count": 116
           },
           {
            "bin_start": 7.4,
            "bin_end": 10.100000000000001,
            "count": 25
           },
           {
            "bin_start": 10.100000000000001,
            "bin_end": 12.8,
            "count": 16
           },
           {
            "bin_start": 12.8,
            "bin_end": 15.5,
            "count": 7
           },
           {
            "bin_start": 15.5,
            "bin_end": 18.200000000000003,
            "count": 0
           },
           {
            "bin_start": 18.200000000000003,
            "bin_end": 20.900000000000002,
            "count": 2
           },
           {
            "bin_start": 20.900000000000002,
            "bin_end": 23.6,
            "count": 2
           },
           {
            "bin_start": 23.6,
            "bin_end": 26.3,
            "count": 1
           },
           {
            "bin_start": 26.3,
            "bin_end": 29,
            "count": 1
           }
          ]
         }
        },
        {
         "name": "_deepnote_index_column",
         "dtype": "object"
        }
       ],
       "rows": [
        {
         "order_id": 2,
         "_deepnote_index_column": "4eff3ad36f5e69d4d33d9798ecf22bf6"
        },
        {
         "order_id": 2,
         "_deepnote_index_column": "19ef6de262591218648e1765adedad1b"
        },
        {
         "order_id": 2,
         "_deepnote_index_column": "305bdb8167732cc44914e064834f8e1c"
        },
        {
         "order_id": 2,
         "_deepnote_index_column": "002f19a65a2ddd70a090297872e6d64e"
        },
        {
         "order_id": 2,
         "_deepnote_index_column": "fbbc0a864330509c41ca4b4f0ff9b780"
        },
        {
         "order_id": 2,
         "_deepnote_index_column": "52f4d206be495fdbcc211af8b9c1d8ba"
        },
        {
         "order_id": 2,
         "_deepnote_index_column": "e2c5cdd2687cb2f0efe991ed155c8653"
        },
        {
         "order_id": 2,
         "_deepnote_index_column": "96dd4c9c90277943c551ab185303685e"
        },
        {
         "order_id": 2,
         "_deepnote_index_column": "c659935fdc19ef6b13aa33fb990a2f81"
        },
        {
         "order_id": 2,
         "_deepnote_index_column": "7b42f564d505ea0c0783bb273062ca8b"
        }
       ]
      },
      "text/plain": "                                  order_id\nfa65dad1b0e818e3ccc5cb0e39231352        29\nccf804e764ed5650cd8759557269dc13        26\n285c2e15bebd4ac83635ccc563dc71f4        22\n895ab968e7bb0d5659d16cd74cd1650c        21\nfedcd9f7ccdc8cba3a18defedd1a5547        19\n...                                    ...\nb6a89d6b9a0f7e821a59bdb3e44d8420         2\n5fd5c981a4232eaced70a8003d560243         2\n60f0f4f310904e1d0c7d41224fcb45d6         2\na4569e83b396f45f5bad001bce729da0         2\n97c8513f2504aa8ec05534307a703dea         2\n\n[2961 rows x 1 columns]",
      "text/html": "<div>\n<style scoped>\n    .dataframe tbody tr th:only-of-type {\n        vertical-align: middle;\n    }\n\n    .dataframe tbody tr th {\n        vertical-align: top;\n    }\n\n    .dataframe thead th {\n        text-align: right;\n    }\n</style>\n<table border=\"1\" class=\"dataframe\">\n  <thead>\n    <tr style=\"text-align: right;\">\n      <th></th>\n      <th>order_id</th>\n    </tr>\n  </thead>\n  <tbody>\n    <tr>\n      <th>fa65dad1b0e818e3ccc5cb0e39231352</th>\n      <td>29</td>\n    </tr>\n    <tr>\n      <th>ccf804e764ed5650cd8759557269dc13</th>\n      <td>26</td>\n    </tr>\n    <tr>\n      <th>285c2e15bebd4ac83635ccc563dc71f4</th>\n      <td>22</td>\n    </tr>\n    <tr>\n      <th>895ab968e7bb0d5659d16cd74cd1650c</th>\n      <td>21</td>\n    </tr>\n    <tr>\n      <th>fedcd9f7ccdc8cba3a18defedd1a5547</th>\n      <td>19</td>\n    </tr>\n    <tr>\n      <th>...</th>\n      <td>...</td>\n    </tr>\n    <tr>\n      <th>b6a89d6b9a0f7e821a59bdb3e44d8420</th>\n      <td>2</td>\n    </tr>\n    <tr>\n      <th>5fd5c981a4232eaced70a8003d560243</th>\n      <td>2</td>\n    </tr>\n    <tr>\n      <th>60f0f4f310904e1d0c7d41224fcb45d6</th>\n      <td>2</td>\n    </tr>\n    <tr>\n      <th>a4569e83b396f45f5bad001bce729da0</th>\n      <td>2</td>\n    </tr>\n    <tr>\n      <th>97c8513f2504aa8ec05534307a703dea</th>\n      <td>2</td>\n    </tr>\n  </tbody>\n</table>\n<p>2961 rows × 1 columns</p>\n</div>"
     },
     "metadata": {}
    }
   ],
   "execution_count": null
  },
  {
   "cell_type": "code",
   "metadata": {
    "deepnote_to_be_reexecuted": false,
    "source_hash": "30e2dec1",
    "execution_start": 1649122932545,
    "execution_millis": 12,
    "cell_id": "00023-d5e4a9a1-4070-468b-a1dc-1aff394ca223",
    "deepnote_cell_type": "code",
    "deepnote_cell_height": 327.90625,
    "deepnote_output_heights": [
     212.984375
    ]
   },
   "source": "#Top 10 ordenes que se pagaron a cuotas, la cantidad de veces que se repite el order_id nos permite saber a cuantas cuotas se pagó la orden\ndf['order_id'].value_counts().head(10)",
   "outputs": [
    {
     "output_type": "execute_result",
     "execution_count": 11,
     "data": {
      "text/plain": "fa65dad1b0e818e3ccc5cb0e39231352    29\nccf804e764ed5650cd8759557269dc13    26\n285c2e15bebd4ac83635ccc563dc71f4    22\n895ab968e7bb0d5659d16cd74cd1650c    21\nfedcd9f7ccdc8cba3a18defedd1a5547    19\nee9ca989fc93ba09a6eddc250ce01742    19\n4bfcba9e084f46c8e3cb49b0fa6e6159    15\n21577126c19bf11a0b91592e5844ba78    15\n3c58bffb70dcf45f12bdf66a3c215905    14\n4689b1816de42507a7d63a4617383c59    14\nName: order_id, dtype: int64"
     },
     "metadata": {}
    }
   ],
   "execution_count": null
  },
  {
   "cell_type": "code",
   "metadata": {
    "deepnote_to_be_reexecuted": false,
    "source_hash": "d50f5468",
    "execution_start": 1649122932617,
    "execution_millis": 1,
    "cell_id": "00025-6546d393-0590-405b-953e-f01a50d0c596",
    "deepnote_cell_type": "code",
    "deepnote_cell_height": 214,
    "deepnote_output_heights": [
     117.078125
    ]
   },
   "source": "df['payment_type'].value_counts()",
   "outputs": [
    {
     "output_type": "execute_result",
     "execution_count": 12,
     "data": {
      "text/plain": "credit_card    76795\nboleto         19784\nvoucher         5775\ndebit_card      1529\nnot_defined        3\nName: payment_type, dtype: int64"
     },
     "metadata": {}
    }
   ],
   "execution_count": null
  },
  {
   "cell_type": "code",
   "metadata": {
    "deepnote_to_be_reexecuted": false,
    "source_hash": "da0e4192",
    "cell_id": "0e84468a35554f70b1b26a83c6d1c8db",
    "allow_embed": false,
    "execution_start": 1649122957310,
    "execution_millis": 7,
    "deepnote_cell_type": "code",
    "deepnote_cell_height": 578.4375,
    "deepnote_output_heights": [
     481.53125
    ]
   },
   "source": "df['payment_installments'].value_counts()",
   "outputs": [
    {
     "output_type": "execute_result",
     "execution_count": 13,
     "data": {
      "text/plain": "1     52546\n2     12413\n3     10461\n4      7098\n10     5328\n5      5239\n8      4268\n6      3920\n7      1626\n9       644\n12      133\n15       74\n18       27\n11       23\n24       18\n20       17\n13       16\n14       15\n17        8\n16        5\n21        3\n0         2\n22        1\n23        1\nName: payment_installments, dtype: int64"
     },
     "metadata": {}
    }
   ],
   "execution_count": null
  },
  {
   "cell_type": "markdown",
   "source": "<a style='text-decoration:none;line-height:16px;display:flex;color:#5B5B62;padding:10px;justify-content:end;' href='https://deepnote.com?utm_source=created-in-deepnote-cell&projectId=90ddeb2f-27a7-421c-b6e9-ac64f68afe36' target=\"_blank\">\n<img alt='Created in deepnote.com' style='display:inline;max-height:16px;margin:0px;margin-right:7.5px;' src='data:image/svg+xml;base64,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' > </img>\nCreated in <span style='font-weight:600;margin-left:4px;'>Deepnote</span></a>",
   "metadata": {
    "tags": [],
    "created_in_deepnote_cell": true,
    "deepnote_cell_type": "markdown"
   }
  }
 ],
 "nbformat": 4,
 "nbformat_minor": 5,
 "metadata": {
  "kernelspec": {
   "display_name": "Python 3 (ipykernel)",
   "language": "python",
   "name": "python3"
  },
  "language_info": {
   "codemirror_mode": {
    "name": "ipython",
    "version": 3
   },
   "file_extension": ".py",
   "mimetype": "text/x-python",
   "name": "python",
   "nbconvert_exporter": "python",
   "pygments_lexer": "ipython3",
   "version": "3.9.7"
  },
  "deepnote_notebook_id": "c182597c-67a0-461f-8379-818e28484e4f",
  "deepnote": {},
  "deepnote_execution_queue": []
 }
}